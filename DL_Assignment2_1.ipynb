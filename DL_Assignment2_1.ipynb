{
 "cells": [
  {
   "cell_type": "markdown",
   "id": "481fb834-8a1f-4b8b-8652-ddfdbf9d1390",
   "metadata": {
    "jp-MarkdownHeadingCollapsed": true
   },
   "source": [
    "# import, loading data"
   ]
  },
  {
   "cell_type": "code",
   "execution_count": 1,
   "id": "9401e82f-319f-4de2-a7ef-00072a706840",
   "metadata": {},
   "outputs": [],
   "source": [
    "import random\n",
    "import torch\n",
    "import torch.nn as nn\n",
    "from torch.utils.data import Dataset, DataLoader\n",
    "from torchvision import transforms\n",
    "from PIL import Image\n",
    "import os\n",
    "import torch.nn.functional as F\n",
    "import random, time, torchprofile\n",
    "import torchvision.models as models\n",
    "from tqdm import tqdm\n",
    "import torch.optim as optim\n",
    "from sklearn.metrics import precision_score, recall_score, f1_score"
   ]
  },
  {
   "cell_type": "code",
   "execution_count": 2,
   "id": "5979515f-577c-4ae1-ac72-28d574b8f44e",
   "metadata": {},
   "outputs": [],
   "source": [
    "# 定義 CustomImageNetDataset\n",
    "\n",
    "class CustomImageNetDataset(Dataset):\n",
    "    \"\"\"用於 ImageNet 圖片及其註解的數據集類別。\"\"\"\n",
    "    \n",
    "    def __init__(self, annotation_file, image_directory, transforms=None):\n",
    "        \"\"\"\n",
    "        初始化數據集。\n",
    "        \n",
    "        參數:\n",
    "            annotation_file (str): 註解文件的路徑。\n",
    "            image_directory (str): 圖片目錄的路徑。\n",
    "            transforms (callable, optional): 要應用於圖片的轉換。\n",
    "        \"\"\"\n",
    "        self.image_directory = image_directory\n",
    "        self.transforms = transforms\n",
    "        self.annotations = self._load_annotations(annotation_file)\n",
    "\n",
    "    def _load_annotations(self, file_path):\n",
    "        \"\"\"從文件加載註解。\"\"\"\n",
    "        with open(file_path, 'r') as f:\n",
    "            annotations = f.read().splitlines()\n",
    "        return annotations\n",
    "\n",
    "    def __len__(self):\n",
    "        \"\"\"返回數據集中的圖片總數。\"\"\"\n",
    "        return len(self.annotations)\n",
    "\n",
    "    def __getitem__(self, index):\n",
    "        \"\"\"根據索引檢索圖片及其標籤。\"\"\"\n",
    "        annotation = self.annotations[index]\n",
    "        img_file, label = annotation.split()\n",
    "        full_img_path = os.path.join(self.image_directory, img_file)\n",
    "        image = Image.open(full_img_path).convert('RGB')\n",
    "        \n",
    "        if self.transforms:\n",
    "            image = self.transforms(image)\n",
    "\n",
    "        return image, int(label)"
   ]
  },
  {
   "cell_type": "code",
   "execution_count": 3,
   "id": "fef2a70e-6bd6-4ade-ae45-c4e2b4543b5e",
   "metadata": {},
   "outputs": [],
   "source": [
    "#Data augmentation\n",
    "\n",
    "class SelectiveChannelDrop:\n",
    "    def __init__(self):\n",
    "        self.possible_channels = [\n",
    "            (0, 1, 2),  # RGB\n",
    "            (0, 1),     # RG\n",
    "            (0, 2),     # RB\n",
    "            (1, 2),     # GB\n",
    "            (0,),       # R\n",
    "            (1,),       # G\n",
    "            (2,)        # B\n",
    "        ]\n",
    "\n",
    "    def __call__(self, image):\n",
    "        channels = list(image.split())\n",
    "        selected_channels = random.choice(self.possible_channels)\n",
    "        new_channels = [channels[i] if i in selected_channels else Image.new('L', image.size, 'black') for i in range(3)]\n",
    "        output_image = Image.merge('RGB', new_channels)\n",
    "        return output_image\n",
    "\n",
    "# 配置圖像變換\n",
    "\n",
    "basic_transforms = transforms.Compose([\n",
    "    transforms.Resize(96),\n",
    "    transforms.CenterCrop(96),\n",
    "    transforms.ToTensor(),\n",
    "])\n",
    "\n",
    "training_transforms = transforms.Compose([\n",
    "    transforms.RandomResizedCrop(96),\n",
    "    transforms.RandomHorizontalFlip(1),\n",
    "    transforms.RandomVerticalFlip(0.1),\n",
    "    transforms.RandomPerspective(distortion_scale=0.2, p=0.2),  \n",
    "    transforms.RandomRotation(15),\n",
    "    SelectiveChannelDrop(),\n",
    "    transforms.ToTensor(),\n",
    "    transforms.Normalize(mean=[0.485, 0.456, 0.406], std=[0.229, 0.224, 0.225]),\n",
    "])\n",
    "\n",
    "\n",
    "validation_transforms = transforms.Compose([\n",
    "    transforms.Resize(96),\n",
    "    transforms.CenterCrop(96),\n",
    "    transforms.ToTensor(),\n",
    "    transforms.Normalize(mean=[0.485, 0.456, 0.406], std=[0.229, 0.224, 0.225]),\n",
    "])"
   ]
  },
  {
   "cell_type": "code",
   "execution_count": 5,
   "id": "24afdc0d-4b1a-47df-a725-99de38baf573",
   "metadata": {},
   "outputs": [],
   "source": [
    "# 把 train, validation data load進來\n",
    "\n",
    "train_dataset = CustomImageNetDataset(annotation_file='data/images/train.txt', image_directory='data/images', transforms=training_transforms)\n",
    "val_dataset = CustomImageNetDataset(annotation_file='data/images/val.txt', image_directory='data/images', transforms=validation_transforms)\n",
    "\n",
    "train_loader = DataLoader(train_dataset, batch_size=64, shuffle=True)\n",
    "val_loader = DataLoader(val_dataset, batch_size=64, shuffle=False)"
   ]
  },
  {
   "cell_type": "markdown",
   "id": "f92c4651-e10f-4f0a-b326-8906988a40cd",
   "metadata": {
    "jp-MarkdownHeadingCollapsed": true
   },
   "source": [
    "# 我的設計模型"
   ]
  },
  {
   "cell_type": "code",
   "execution_count": 4,
   "id": "e2541851-13a0-458b-a733-b1d8bd2c2400",
   "metadata": {},
   "outputs": [],
   "source": [
    "#設計 DynamicConv2D \n",
    "\n",
    "class DynamicConv2D(nn.Module):\n",
    "    def __init__(self, input_channels, output_channels, kernel_size, stride=1, padding=0, use_bias=True):\n",
    "        super(DynamicConv2D, self).__init__()\n",
    "        self.input_channels = input_channels\n",
    "        self.output_channels = output_channels\n",
    "        self.kernel_size = kernel_size\n",
    "        self.stride = stride\n",
    "        self.padding = padding\n",
    "        self.use_bias = use_bias\n",
    "\n",
    "        # 初始化可調整的卷積核權重及偏置\n",
    "        self.weights = nn.Parameter(torch.randn(output_channels, input_channels, kernel_size, kernel_size))\n",
    "        if use_bias:\n",
    "            self.biases = nn.Parameter(torch.randn(output_channels))\n",
    "        else:\n",
    "            self.register_parameter('biases', None)\n",
    "\n",
    "    def forward(self, input_tensor):\n",
    "        # 根據輸入的通道數量調整權重\n",
    "        current_input_channels = input_tensor.size(1)\n",
    "        if current_input_channels < self.input_channels:\n",
    "            adjusted_weights = self.weights[:, :current_input_channels, :, :]\n",
    "        else:\n",
    "            adjusted_weights = self.weights\n",
    "\n",
    "        # 執行卷積操作\n",
    "        return F.conv2d(input_tensor, adjusted_weights, self.biases, self.stride, self.padding)\n"
   ]
  },
  {
   "cell_type": "code",
   "execution_count": 6,
   "id": "e6047c1f-9a15-490b-b281-36ea98625832",
   "metadata": {},
   "outputs": [
    {
     "data": {
      "text/plain": [
       "ResNet(\n",
       "  (conv1): DynamicConv2D()\n",
       "  (bn1): BatchNorm2d(64, eps=1e-05, momentum=0.1, affine=True, track_running_stats=True)\n",
       "  (relu): ReLU(inplace=True)\n",
       "  (maxpool): MaxPool2d(kernel_size=3, stride=2, padding=1, dilation=1, ceil_mode=False)\n",
       "  (layer1): Sequential(\n",
       "    (0): BasicBlock(\n",
       "      (conv1): Conv2d(64, 64, kernel_size=(3, 3), stride=(1, 1), padding=(1, 1), bias=False)\n",
       "      (bn1): BatchNorm2d(64, eps=1e-05, momentum=0.1, affine=True, track_running_stats=True)\n",
       "      (relu): ReLU(inplace=True)\n",
       "      (conv2): Conv2d(64, 64, kernel_size=(3, 3), stride=(1, 1), padding=(1, 1), bias=False)\n",
       "      (bn2): BatchNorm2d(64, eps=1e-05, momentum=0.1, affine=True, track_running_stats=True)\n",
       "    )\n",
       "    (1): BasicBlock(\n",
       "      (conv1): Conv2d(64, 64, kernel_size=(3, 3), stride=(1, 1), padding=(1, 1), bias=False)\n",
       "      (bn1): BatchNorm2d(64, eps=1e-05, momentum=0.1, affine=True, track_running_stats=True)\n",
       "      (relu): ReLU(inplace=True)\n",
       "      (conv2): Conv2d(64, 64, kernel_size=(3, 3), stride=(1, 1), padding=(1, 1), bias=False)\n",
       "      (bn2): BatchNorm2d(64, eps=1e-05, momentum=0.1, affine=True, track_running_stats=True)\n",
       "    )\n",
       "  )\n",
       "  (layer2): Sequential(\n",
       "    (0): BasicBlock(\n",
       "      (conv1): Conv2d(64, 128, kernel_size=(3, 3), stride=(2, 2), padding=(1, 1), bias=False)\n",
       "      (bn1): BatchNorm2d(128, eps=1e-05, momentum=0.1, affine=True, track_running_stats=True)\n",
       "      (relu): ReLU(inplace=True)\n",
       "      (conv2): Conv2d(128, 128, kernel_size=(3, 3), stride=(1, 1), padding=(1, 1), bias=False)\n",
       "      (bn2): BatchNorm2d(128, eps=1e-05, momentum=0.1, affine=True, track_running_stats=True)\n",
       "      (downsample): Sequential(\n",
       "        (0): Conv2d(64, 128, kernel_size=(1, 1), stride=(2, 2), bias=False)\n",
       "        (1): BatchNorm2d(128, eps=1e-05, momentum=0.1, affine=True, track_running_stats=True)\n",
       "      )\n",
       "    )\n",
       "    (1): BasicBlock(\n",
       "      (conv1): Conv2d(128, 128, kernel_size=(3, 3), stride=(1, 1), padding=(1, 1), bias=False)\n",
       "      (bn1): BatchNorm2d(128, eps=1e-05, momentum=0.1, affine=True, track_running_stats=True)\n",
       "      (relu): ReLU(inplace=True)\n",
       "      (conv2): Conv2d(128, 128, kernel_size=(3, 3), stride=(1, 1), padding=(1, 1), bias=False)\n",
       "      (bn2): BatchNorm2d(128, eps=1e-05, momentum=0.1, affine=True, track_running_stats=True)\n",
       "    )\n",
       "  )\n",
       "  (layer3): Sequential(\n",
       "    (0): BasicBlock(\n",
       "      (conv1): Conv2d(128, 256, kernel_size=(3, 3), stride=(2, 2), padding=(1, 1), bias=False)\n",
       "      (bn1): BatchNorm2d(256, eps=1e-05, momentum=0.1, affine=True, track_running_stats=True)\n",
       "      (relu): ReLU(inplace=True)\n",
       "      (conv2): Conv2d(256, 256, kernel_size=(3, 3), stride=(1, 1), padding=(1, 1), bias=False)\n",
       "      (bn2): BatchNorm2d(256, eps=1e-05, momentum=0.1, affine=True, track_running_stats=True)\n",
       "      (downsample): Sequential(\n",
       "        (0): Conv2d(128, 256, kernel_size=(1, 1), stride=(2, 2), bias=False)\n",
       "        (1): BatchNorm2d(256, eps=1e-05, momentum=0.1, affine=True, track_running_stats=True)\n",
       "      )\n",
       "    )\n",
       "    (1): BasicBlock(\n",
       "      (conv1): Conv2d(256, 256, kernel_size=(3, 3), stride=(1, 1), padding=(1, 1), bias=False)\n",
       "      (bn1): BatchNorm2d(256, eps=1e-05, momentum=0.1, affine=True, track_running_stats=True)\n",
       "      (relu): ReLU(inplace=True)\n",
       "      (conv2): Conv2d(256, 256, kernel_size=(3, 3), stride=(1, 1), padding=(1, 1), bias=False)\n",
       "      (bn2): BatchNorm2d(256, eps=1e-05, momentum=0.1, affine=True, track_running_stats=True)\n",
       "    )\n",
       "  )\n",
       "  (layer4): Sequential(\n",
       "    (0): BasicBlock(\n",
       "      (conv1): Conv2d(256, 512, kernel_size=(3, 3), stride=(2, 2), padding=(1, 1), bias=False)\n",
       "      (bn1): BatchNorm2d(512, eps=1e-05, momentum=0.1, affine=True, track_running_stats=True)\n",
       "      (relu): ReLU(inplace=True)\n",
       "      (conv2): Conv2d(512, 512, kernel_size=(3, 3), stride=(1, 1), padding=(1, 1), bias=False)\n",
       "      (bn2): BatchNorm2d(512, eps=1e-05, momentum=0.1, affine=True, track_running_stats=True)\n",
       "      (downsample): Sequential(\n",
       "        (0): Conv2d(256, 512, kernel_size=(1, 1), stride=(2, 2), bias=False)\n",
       "        (1): BatchNorm2d(512, eps=1e-05, momentum=0.1, affine=True, track_running_stats=True)\n",
       "      )\n",
       "    )\n",
       "    (1): BasicBlock(\n",
       "      (conv1): Conv2d(512, 512, kernel_size=(3, 3), stride=(1, 1), padding=(1, 1), bias=False)\n",
       "      (bn1): BatchNorm2d(512, eps=1e-05, momentum=0.1, affine=True, track_running_stats=True)\n",
       "      (relu): ReLU(inplace=True)\n",
       "      (conv2): Conv2d(512, 512, kernel_size=(3, 3), stride=(1, 1), padding=(1, 1), bias=False)\n",
       "      (bn2): BatchNorm2d(512, eps=1e-05, momentum=0.1, affine=True, track_running_stats=True)\n",
       "    )\n",
       "  )\n",
       "  (avgpool): AdaptiveAvgPool2d(output_size=(1, 1))\n",
       "  (fc): Linear(in_features=512, out_features=50, bias=True)\n",
       ")"
      ]
     },
     "execution_count": 6,
     "metadata": {},
     "output_type": "execute_result"
    }
   ],
   "source": [
    "#把resnet18第一層改成 DynamicConv2D \n",
    "\n",
    "model = models.resnet18(weights=None)\n",
    "model.conv1 = DynamicConv2D(input_channels=3, output_channels=64, kernel_size=7, stride=2, padding=3, use_bias=False)\n",
    "model.fc = torch.nn.Linear(model.fc.in_features, 50)\n",
    "model.cuda()"
   ]
  },
  {
   "cell_type": "code",
   "execution_count": 7,
   "id": "7cc4f7fe-ec5a-489c-a25e-5d96bbe038b3",
   "metadata": {},
   "outputs": [
    {
     "name": "stderr",
     "output_type": "stream",
     "text": [
      "Training Epoch #1: 100%|██████████| 990/990 [02:58<00:00,  5.55it/s, accuracy=4.65, loss=3.78] \n"
     ]
    },
    {
     "name": "stdout",
     "output_type": "stream",
     "text": [
      "Train Epoch: 1, Loss: 3.815005, Accuracy: 4.65%\n"
     ]
    },
    {
     "name": "stderr",
     "output_type": "stream",
     "text": [
      "Validation Epoch #1: 100%|██████████| 8/8 [00:01<00:00,  7.68it/s, accuracy=7.56, loss=3.63]  \n"
     ]
    },
    {
     "name": "stdout",
     "output_type": "stream",
     "text": [
      "Validation Set: Average Loss: 3.6338, Accuracy: 7.56%\n",
      "Best Accuracy: 7.56%\n"
     ]
    },
    {
     "name": "stderr",
     "output_type": "stream",
     "text": [
      "Training Epoch #2: 100%|██████████| 990/990 [02:54<00:00,  5.68it/s, accuracy=8.56, loss=3.72] \n"
     ]
    },
    {
     "name": "stdout",
     "output_type": "stream",
     "text": [
      "Train Epoch: 2, Loss: 3.574237, Accuracy: 8.56%\n"
     ]
    },
    {
     "name": "stderr",
     "output_type": "stream",
     "text": [
      "Validation Epoch #2: 100%|██████████| 8/8 [00:00<00:00,  8.17it/s, accuracy=15.1, loss=3.22] \n"
     ]
    },
    {
     "name": "stdout",
     "output_type": "stream",
     "text": [
      "Validation Set: Average Loss: 3.2164, Accuracy: 15.11%\n",
      "Best Accuracy: 15.11%\n"
     ]
    },
    {
     "name": "stderr",
     "output_type": "stream",
     "text": [
      "Training Epoch #3: 100%|██████████| 990/990 [02:54<00:00,  5.67it/s, accuracy=11, loss=3.4]   \n"
     ]
    },
    {
     "name": "stdout",
     "output_type": "stream",
     "text": [
      "Train Epoch: 3, Loss: 3.447280, Accuracy: 11.01%\n"
     ]
    },
    {
     "name": "stderr",
     "output_type": "stream",
     "text": [
      "Validation Epoch #3: 100%|██████████| 8/8 [00:00<00:00,  8.13it/s, accuracy=17.3, loss=3.15] \n"
     ]
    },
    {
     "name": "stdout",
     "output_type": "stream",
     "text": [
      "Validation Set: Average Loss: 3.1540, Accuracy: 17.33%\n",
      "Best Accuracy: 17.33%\n"
     ]
    },
    {
     "name": "stderr",
     "output_type": "stream",
     "text": [
      "Training Epoch #4: 100%|██████████| 990/990 [02:55<00:00,  5.65it/s, accuracy=12.7, loss=3.43] \n"
     ]
    },
    {
     "name": "stdout",
     "output_type": "stream",
     "text": [
      "Train Epoch: 4, Loss: 3.358057, Accuracy: 12.66%\n"
     ]
    },
    {
     "name": "stderr",
     "output_type": "stream",
     "text": [
      "Validation Epoch #4: 100%|██████████| 8/8 [00:00<00:00,  8.25it/s, accuracy=15.6, loss=3.19]  \n"
     ]
    },
    {
     "name": "stdout",
     "output_type": "stream",
     "text": [
      "Validation Set: Average Loss: 3.1935, Accuracy: 15.56%\n"
     ]
    },
    {
     "name": "stderr",
     "output_type": "stream",
     "text": [
      "Training Epoch #5: 100%|██████████| 990/990 [02:54<00:00,  5.68it/s, accuracy=14.6, loss=3.46]\n"
     ]
    },
    {
     "name": "stdout",
     "output_type": "stream",
     "text": [
      "Train Epoch: 5, Loss: 3.259555, Accuracy: 14.56%\n"
     ]
    },
    {
     "name": "stderr",
     "output_type": "stream",
     "text": [
      "Validation Epoch #5: 100%|██████████| 8/8 [00:00<00:00,  8.26it/s, accuracy=19.1, loss=2.94] \n"
     ]
    },
    {
     "name": "stdout",
     "output_type": "stream",
     "text": [
      "Validation Set: Average Loss: 2.9393, Accuracy: 19.11%\n",
      "Best Accuracy: 19.11%\n"
     ]
    },
    {
     "name": "stderr",
     "output_type": "stream",
     "text": [
      "Training Epoch #6: 100%|██████████| 990/990 [02:56<00:00,  5.60it/s, accuracy=16.7, loss=3.49]\n"
     ]
    },
    {
     "name": "stdout",
     "output_type": "stream",
     "text": [
      "Train Epoch: 6, Loss: 3.163172, Accuracy: 16.72%\n"
     ]
    },
    {
     "name": "stderr",
     "output_type": "stream",
     "text": [
      "Validation Epoch #6: 100%|██████████| 8/8 [00:00<00:00,  8.20it/s, accuracy=20.4, loss=2.93] \n"
     ]
    },
    {
     "name": "stdout",
     "output_type": "stream",
     "text": [
      "Validation Set: Average Loss: 2.9253, Accuracy: 20.44%\n",
      "Best Accuracy: 20.44%\n"
     ]
    },
    {
     "name": "stderr",
     "output_type": "stream",
     "text": [
      "Training Epoch #7: 100%|██████████| 990/990 [02:56<00:00,  5.60it/s, accuracy=18.8, loss=3.04]\n"
     ]
    },
    {
     "name": "stdout",
     "output_type": "stream",
     "text": [
      "Train Epoch: 7, Loss: 3.056617, Accuracy: 18.80%\n"
     ]
    },
    {
     "name": "stderr",
     "output_type": "stream",
     "text": [
      "Validation Epoch #7: 100%|██████████| 8/8 [00:00<00:00,  8.29it/s, accuracy=24.2, loss=2.77] \n"
     ]
    },
    {
     "name": "stdout",
     "output_type": "stream",
     "text": [
      "Validation Set: Average Loss: 2.7748, Accuracy: 24.22%\n",
      "Best Accuracy: 24.22%\n"
     ]
    },
    {
     "name": "stderr",
     "output_type": "stream",
     "text": [
      "Training Epoch #8: 100%|██████████| 990/990 [02:56<00:00,  5.61it/s, accuracy=20.5, loss=2.89]\n"
     ]
    },
    {
     "name": "stdout",
     "output_type": "stream",
     "text": [
      "Train Epoch: 8, Loss: 2.973447, Accuracy: 20.49%\n"
     ]
    },
    {
     "name": "stderr",
     "output_type": "stream",
     "text": [
      "Validation Epoch #8: 100%|██████████| 8/8 [00:00<00:00,  8.20it/s, accuracy=24.9, loss=2.69] \n"
     ]
    },
    {
     "name": "stdout",
     "output_type": "stream",
     "text": [
      "Validation Set: Average Loss: 2.6882, Accuracy: 24.89%\n",
      "Best Accuracy: 24.89%\n"
     ]
    },
    {
     "name": "stderr",
     "output_type": "stream",
     "text": [
      "Training Epoch #9: 100%|██████████| 990/990 [02:55<00:00,  5.65it/s, accuracy=22.3, loss=2.91]\n"
     ]
    },
    {
     "name": "stdout",
     "output_type": "stream",
     "text": [
      "Train Epoch: 9, Loss: 2.888124, Accuracy: 22.31%\n"
     ]
    },
    {
     "name": "stderr",
     "output_type": "stream",
     "text": [
      "Validation Epoch #9: 100%|██████████| 8/8 [00:00<00:00,  8.13it/s, accuracy=33.8, loss=2.46] \n"
     ]
    },
    {
     "name": "stdout",
     "output_type": "stream",
     "text": [
      "Validation Set: Average Loss: 2.4637, Accuracy: 33.78%\n",
      "Best Accuracy: 33.78%\n"
     ]
    },
    {
     "name": "stderr",
     "output_type": "stream",
     "text": [
      "Training Epoch #10: 100%|██████████| 990/990 [02:55<00:00,  5.65it/s, accuracy=23.8, loss=2.84]\n"
     ]
    },
    {
     "name": "stdout",
     "output_type": "stream",
     "text": [
      "Train Epoch: 10, Loss: 2.816193, Accuracy: 23.84%\n"
     ]
    },
    {
     "name": "stderr",
     "output_type": "stream",
     "text": [
      "Validation Epoch #10: 100%|██████████| 8/8 [00:00<00:00,  8.21it/s, accuracy=29.6, loss=2.45] \n"
     ]
    },
    {
     "name": "stdout",
     "output_type": "stream",
     "text": [
      "Validation Set: Average Loss: 2.4519, Accuracy: 29.56%\n"
     ]
    },
    {
     "name": "stderr",
     "output_type": "stream",
     "text": [
      "Training Epoch #11: 100%|██████████| 990/990 [02:55<00:00,  5.65it/s, accuracy=25.4, loss=2.77]\n"
     ]
    },
    {
     "name": "stdout",
     "output_type": "stream",
     "text": [
      "Train Epoch: 11, Loss: 2.749706, Accuracy: 25.36%\n"
     ]
    },
    {
     "name": "stderr",
     "output_type": "stream",
     "text": [
      "Validation Epoch #11: 100%|██████████| 8/8 [00:00<00:00,  8.07it/s, accuracy=33.3, loss=2.35] \n"
     ]
    },
    {
     "name": "stdout",
     "output_type": "stream",
     "text": [
      "Validation Set: Average Loss: 2.3485, Accuracy: 33.33%\n"
     ]
    },
    {
     "name": "stderr",
     "output_type": "stream",
     "text": [
      "Training Epoch #12: 100%|██████████| 990/990 [02:55<00:00,  5.65it/s, accuracy=26.7, loss=2.3] \n"
     ]
    },
    {
     "name": "stdout",
     "output_type": "stream",
     "text": [
      "Train Epoch: 12, Loss: 2.699769, Accuracy: 26.66%\n"
     ]
    },
    {
     "name": "stderr",
     "output_type": "stream",
     "text": [
      "Validation Epoch #12: 100%|██████████| 8/8 [00:00<00:00,  8.21it/s, accuracy=34.9, loss=2.26] \n"
     ]
    },
    {
     "name": "stdout",
     "output_type": "stream",
     "text": [
      "Validation Set: Average Loss: 2.2553, Accuracy: 34.89%\n",
      "Best Accuracy: 34.89%\n"
     ]
    },
    {
     "name": "stderr",
     "output_type": "stream",
     "text": [
      "Training Epoch #13: 100%|██████████| 990/990 [02:55<00:00,  5.65it/s, accuracy=27.7, loss=2.59]\n"
     ]
    },
    {
     "name": "stdout",
     "output_type": "stream",
     "text": [
      "Train Epoch: 13, Loss: 2.644907, Accuracy: 27.68%\n"
     ]
    },
    {
     "name": "stderr",
     "output_type": "stream",
     "text": [
      "Validation Epoch #13: 100%|██████████| 8/8 [00:00<00:00,  8.11it/s, accuracy=38.9, loss=2.24] \n"
     ]
    },
    {
     "name": "stdout",
     "output_type": "stream",
     "text": [
      "Validation Set: Average Loss: 2.2382, Accuracy: 38.89%\n",
      "Best Accuracy: 38.89%\n"
     ]
    },
    {
     "name": "stderr",
     "output_type": "stream",
     "text": [
      "Training Epoch #14: 100%|██████████| 990/990 [02:58<00:00,  5.55it/s, accuracy=29, loss=2.7]   \n"
     ]
    },
    {
     "name": "stdout",
     "output_type": "stream",
     "text": [
      "Train Epoch: 14, Loss: 2.589126, Accuracy: 29.03%\n"
     ]
    },
    {
     "name": "stderr",
     "output_type": "stream",
     "text": [
      "Validation Epoch #14: 100%|██████████| 8/8 [00:00<00:00,  8.26it/s, accuracy=36.9, loss=2.23] \n"
     ]
    },
    {
     "name": "stdout",
     "output_type": "stream",
     "text": [
      "Validation Set: Average Loss: 2.2306, Accuracy: 36.89%\n",
      "Change lr:0.010000000000000002\n"
     ]
    },
    {
     "name": "stderr",
     "output_type": "stream",
     "text": [
      "Training Epoch #15: 100%|██████████| 990/990 [02:55<00:00,  5.65it/s, accuracy=35.6, loss=2.01]\n"
     ]
    },
    {
     "name": "stdout",
     "output_type": "stream",
     "text": [
      "Train Epoch: 15, Loss: 2.307866, Accuracy: 35.57%\n"
     ]
    },
    {
     "name": "stderr",
     "output_type": "stream",
     "text": [
      "Validation Epoch #15: 100%|██████████| 8/8 [00:00<00:00,  8.11it/s, accuracy=49.3, loss=1.79] \n"
     ]
    },
    {
     "name": "stdout",
     "output_type": "stream",
     "text": [
      "Validation Set: Average Loss: 1.7872, Accuracy: 49.33%\n",
      "Best Accuracy: 49.33%\n"
     ]
    },
    {
     "name": "stderr",
     "output_type": "stream",
     "text": [
      "Training Epoch #16: 100%|██████████| 990/990 [02:55<00:00,  5.65it/s, accuracy=38, loss=2.02]  \n"
     ]
    },
    {
     "name": "stdout",
     "output_type": "stream",
     "text": [
      "Train Epoch: 16, Loss: 2.206610, Accuracy: 37.98%\n"
     ]
    },
    {
     "name": "stderr",
     "output_type": "stream",
     "text": [
      "Validation Epoch #16: 100%|██████████| 8/8 [00:00<00:00,  8.27it/s, accuracy=49.8, loss=1.74] \n"
     ]
    },
    {
     "name": "stdout",
     "output_type": "stream",
     "text": [
      "Validation Set: Average Loss: 1.7439, Accuracy: 49.78%\n",
      "Best Accuracy: 49.78%\n"
     ]
    },
    {
     "name": "stderr",
     "output_type": "stream",
     "text": [
      "Training Epoch #17: 100%|██████████| 990/990 [02:57<00:00,  5.58it/s, accuracy=39.2, loss=2.27]\n"
     ]
    },
    {
     "name": "stdout",
     "output_type": "stream",
     "text": [
      "Train Epoch: 17, Loss: 2.162020, Accuracy: 39.25%\n"
     ]
    },
    {
     "name": "stderr",
     "output_type": "stream",
     "text": [
      "Validation Epoch #17: 100%|██████████| 8/8 [00:01<00:00,  7.79it/s, accuracy=49.8, loss=1.71] \n"
     ]
    },
    {
     "name": "stdout",
     "output_type": "stream",
     "text": [
      "Validation Set: Average Loss: 1.7071, Accuracy: 49.78%\n"
     ]
    },
    {
     "name": "stderr",
     "output_type": "stream",
     "text": [
      "Training Epoch #18: 100%|██████████| 990/990 [02:58<00:00,  5.54it/s, accuracy=40, loss=2.16]  \n"
     ]
    },
    {
     "name": "stdout",
     "output_type": "stream",
     "text": [
      "Train Epoch: 18, Loss: 2.134986, Accuracy: 40.01%\n"
     ]
    },
    {
     "name": "stderr",
     "output_type": "stream",
     "text": [
      "Validation Epoch #18: 100%|██████████| 8/8 [00:00<00:00,  8.08it/s, accuracy=52, loss=1.66]   \n"
     ]
    },
    {
     "name": "stdout",
     "output_type": "stream",
     "text": [
      "Validation Set: Average Loss: 1.6612, Accuracy: 52.00%\n",
      "Best Accuracy: 52.00%\n"
     ]
    },
    {
     "name": "stderr",
     "output_type": "stream",
     "text": [
      "Training Epoch #19: 100%|██████████| 990/990 [02:55<00:00,  5.64it/s, accuracy=40.5, loss=2.33]\n"
     ]
    },
    {
     "name": "stdout",
     "output_type": "stream",
     "text": [
      "Train Epoch: 19, Loss: 2.108404, Accuracy: 40.49%\n"
     ]
    },
    {
     "name": "stderr",
     "output_type": "stream",
     "text": [
      "Validation Epoch #19: 100%|██████████| 8/8 [00:00<00:00,  8.16it/s, accuracy=52.7, loss=1.64] \n"
     ]
    },
    {
     "name": "stdout",
     "output_type": "stream",
     "text": [
      "Validation Set: Average Loss: 1.6375, Accuracy: 52.67%\n",
      "Best Accuracy: 52.67%\n"
     ]
    },
    {
     "name": "stderr",
     "output_type": "stream",
     "text": [
      "Training Epoch #20: 100%|██████████| 990/990 [02:55<00:00,  5.64it/s, accuracy=41.3, loss=1.66]\n"
     ]
    },
    {
     "name": "stdout",
     "output_type": "stream",
     "text": [
      "Train Epoch: 20, Loss: 2.080119, Accuracy: 41.26%\n"
     ]
    },
    {
     "name": "stderr",
     "output_type": "stream",
     "text": [
      "Validation Epoch #20: 100%|██████████| 8/8 [00:00<00:00,  8.01it/s, accuracy=53.1, loss=1.63] \n"
     ]
    },
    {
     "name": "stdout",
     "output_type": "stream",
     "text": [
      "Validation Set: Average Loss: 1.6263, Accuracy: 53.11%\n",
      "Best Accuracy: 53.11%\n"
     ]
    },
    {
     "name": "stderr",
     "output_type": "stream",
     "text": [
      "Training Epoch #21: 100%|██████████| 990/990 [02:54<00:00,  5.66it/s, accuracy=41.6, loss=1.43]\n"
     ]
    },
    {
     "name": "stdout",
     "output_type": "stream",
     "text": [
      "Train Epoch: 21, Loss: 2.055221, Accuracy: 41.63%\n"
     ]
    },
    {
     "name": "stderr",
     "output_type": "stream",
     "text": [
      "Validation Epoch #21: 100%|██████████| 8/8 [00:01<00:00,  7.97it/s, accuracy=54.7, loss=1.6]  \n"
     ]
    },
    {
     "name": "stdout",
     "output_type": "stream",
     "text": [
      "Validation Set: Average Loss: 1.5996, Accuracy: 54.67%\n",
      "Best Accuracy: 54.67%\n"
     ]
    },
    {
     "name": "stderr",
     "output_type": "stream",
     "text": [
      "Training Epoch #22: 100%|██████████| 990/990 [02:54<00:00,  5.67it/s, accuracy=42.2, loss=2.47]\n"
     ]
    },
    {
     "name": "stdout",
     "output_type": "stream",
     "text": [
      "Train Epoch: 22, Loss: 2.042154, Accuracy: 42.23%\n"
     ]
    },
    {
     "name": "stderr",
     "output_type": "stream",
     "text": [
      "Validation Epoch #22: 100%|██████████| 8/8 [00:00<00:00,  8.00it/s, accuracy=54, loss=1.57]   \n"
     ]
    },
    {
     "name": "stdout",
     "output_type": "stream",
     "text": [
      "Validation Set: Average Loss: 1.5681, Accuracy: 54.00%\n"
     ]
    },
    {
     "name": "stderr",
     "output_type": "stream",
     "text": [
      "Training Epoch #23: 100%|██████████| 990/990 [02:58<00:00,  5.54it/s, accuracy=42.9, loss=1.95]\n"
     ]
    },
    {
     "name": "stdout",
     "output_type": "stream",
     "text": [
      "Train Epoch: 23, Loss: 2.020481, Accuracy: 42.86%\n"
     ]
    },
    {
     "name": "stderr",
     "output_type": "stream",
     "text": [
      "Validation Epoch #23: 100%|██████████| 8/8 [00:00<00:00,  8.18it/s, accuracy=52.7, loss=1.55] \n"
     ]
    },
    {
     "name": "stdout",
     "output_type": "stream",
     "text": [
      "Validation Set: Average Loss: 1.5497, Accuracy: 52.67%\n"
     ]
    },
    {
     "name": "stderr",
     "output_type": "stream",
     "text": [
      "Training Epoch #24: 100%|██████████| 990/990 [02:55<00:00,  5.65it/s, accuracy=43.5, loss=1.74]\n"
     ]
    },
    {
     "name": "stdout",
     "output_type": "stream",
     "text": [
      "Train Epoch: 24, Loss: 2.000288, Accuracy: 43.47%\n"
     ]
    },
    {
     "name": "stderr",
     "output_type": "stream",
     "text": [
      "Validation Epoch #24: 100%|██████████| 8/8 [00:00<00:00,  8.22it/s, accuracy=55.3, loss=1.51] \n"
     ]
    },
    {
     "name": "stdout",
     "output_type": "stream",
     "text": [
      "Validation Set: Average Loss: 1.5115, Accuracy: 55.33%\n",
      "Best Accuracy: 55.33%\n"
     ]
    },
    {
     "name": "stderr",
     "output_type": "stream",
     "text": [
      "Training Epoch #25: 100%|██████████| 990/990 [03:01<00:00,  5.45it/s, accuracy=43.8, loss=2.18]\n"
     ]
    },
    {
     "name": "stdout",
     "output_type": "stream",
     "text": [
      "Train Epoch: 25, Loss: 1.986293, Accuracy: 43.82%\n"
     ]
    },
    {
     "name": "stderr",
     "output_type": "stream",
     "text": [
      "Validation Epoch #25: 100%|██████████| 8/8 [00:01<00:00,  7.63it/s, accuracy=55.6, loss=1.53] \n"
     ]
    },
    {
     "name": "stdout",
     "output_type": "stream",
     "text": [
      "Validation Set: Average Loss: 1.5308, Accuracy: 55.56%\n",
      "Best Accuracy: 55.56%\n"
     ]
    },
    {
     "name": "stderr",
     "output_type": "stream",
     "text": [
      "Training Epoch #26: 100%|██████████| 990/990 [02:59<00:00,  5.50it/s, accuracy=44.1, loss=2.03]\n"
     ]
    },
    {
     "name": "stdout",
     "output_type": "stream",
     "text": [
      "Train Epoch: 26, Loss: 1.964272, Accuracy: 44.10%\n"
     ]
    },
    {
     "name": "stderr",
     "output_type": "stream",
     "text": [
      "Validation Epoch #26: 100%|██████████| 8/8 [00:00<00:00,  8.26it/s, accuracy=55.1, loss=1.51] \n"
     ]
    },
    {
     "name": "stdout",
     "output_type": "stream",
     "text": [
      "Validation Set: Average Loss: 1.5084, Accuracy: 55.11%\n"
     ]
    },
    {
     "name": "stderr",
     "output_type": "stream",
     "text": [
      "Training Epoch #27: 100%|██████████| 990/990 [02:54<00:00,  5.68it/s, accuracy=44.5, loss=1.89]\n"
     ]
    },
    {
     "name": "stdout",
     "output_type": "stream",
     "text": [
      "Train Epoch: 27, Loss: 1.948063, Accuracy: 44.54%\n"
     ]
    },
    {
     "name": "stderr",
     "output_type": "stream",
     "text": [
      "Validation Epoch #27: 100%|██████████| 8/8 [00:00<00:00,  8.05it/s, accuracy=54.7, loss=1.49] \n"
     ]
    },
    {
     "name": "stdout",
     "output_type": "stream",
     "text": [
      "Validation Set: Average Loss: 1.4940, Accuracy: 54.67%\n"
     ]
    },
    {
     "name": "stderr",
     "output_type": "stream",
     "text": [
      "Training Epoch #28: 100%|██████████| 990/990 [02:58<00:00,  5.56it/s, accuracy=44.9, loss=2.34]\n"
     ]
    },
    {
     "name": "stdout",
     "output_type": "stream",
     "text": [
      "Train Epoch: 28, Loss: 1.933981, Accuracy: 44.85%\n"
     ]
    },
    {
     "name": "stderr",
     "output_type": "stream",
     "text": [
      "Validation Epoch #28: 100%|██████████| 8/8 [00:00<00:00,  8.12it/s, accuracy=53.6, loss=1.49] \n"
     ]
    },
    {
     "name": "stdout",
     "output_type": "stream",
     "text": [
      "Validation Set: Average Loss: 1.4948, Accuracy: 53.56%\n"
     ]
    },
    {
     "name": "stderr",
     "output_type": "stream",
     "text": [
      "Training Epoch #29: 100%|██████████| 990/990 [02:55<00:00,  5.65it/s, accuracy=45.7, loss=2.08]\n"
     ]
    },
    {
     "name": "stdout",
     "output_type": "stream",
     "text": [
      "Train Epoch: 29, Loss: 1.909190, Accuracy: 45.69%\n"
     ]
    },
    {
     "name": "stderr",
     "output_type": "stream",
     "text": [
      "Validation Epoch #29: 100%|██████████| 8/8 [00:00<00:00,  8.02it/s, accuracy=53.3, loss=1.55] \n"
     ]
    },
    {
     "name": "stdout",
     "output_type": "stream",
     "text": [
      "Validation Set: Average Loss: 1.5511, Accuracy: 53.33%\n"
     ]
    },
    {
     "name": "stderr",
     "output_type": "stream",
     "text": [
      "Training Epoch #30: 100%|██████████| 990/990 [02:55<00:00,  5.63it/s, accuracy=45.9, loss=1.97]\n"
     ]
    },
    {
     "name": "stdout",
     "output_type": "stream",
     "text": [
      "Train Epoch: 30, Loss: 1.899953, Accuracy: 45.89%\n"
     ]
    },
    {
     "name": "stderr",
     "output_type": "stream",
     "text": [
      "Validation Epoch #30: 100%|██████████| 8/8 [00:01<00:00,  7.95it/s, accuracy=57.3, loss=1.45] \n"
     ]
    },
    {
     "name": "stdout",
     "output_type": "stream",
     "text": [
      "Validation Set: Average Loss: 1.4464, Accuracy: 57.33%\n",
      "Best Accuracy: 57.33%\n",
      "Final Best Accuracy: 57.33%\n"
     ]
    }
   ],
   "source": [
    "#定義train, validation\n",
    "\n",
    "lr = 0.1\n",
    "epochs = 30\n",
    "momentum = 0.9\n",
    "weight_decay = 1e-4\n",
    "optimizer = optim.SGD(model.parameters(), lr=lr, momentum=momentum, weight_decay=weight_decay)\n",
    "\n",
    "\n",
    "def adjust_lr(optimizer, epoch):\n",
    "    if epoch in [epochs*0.5, epochs*0.75, epochs*0.85]:\n",
    "        for p in optimizer.param_groups:\n",
    "            p['lr'] *= 0.1\n",
    "            lr = p['lr']\n",
    "        print('Change lr:'+str(lr))\n",
    "\n",
    "def train(epoch):\n",
    "    model.train()\n",
    "    avg_loss = 0.\n",
    "    train_acc = 0.\n",
    "    adjust_lr(optimizer, epoch)\n",
    "    train_loader_len = len(train_loader.dataset)\n",
    "    train_loader_iter = tqdm(enumerate(train_loader), total=len(train_loader), desc=\"Training Epoch #{}\".format(epoch))\n",
    "    \n",
    "    for batch_idx, (data, target) in train_loader_iter:\n",
    "        data, target = data.cuda(), target.cuda()\n",
    "        optimizer.zero_grad()\n",
    "        output = model(data)\n",
    "        loss = F.cross_entropy(output, target)\n",
    "        avg_loss += loss.item()\n",
    "        pred = output.data.max(1, keepdim=True)[1]\n",
    "        train_acc += pred.eq(target.data.view_as(pred)).cpu().sum()\n",
    "        loss.backward()\n",
    "        optimizer.step()\n",
    "        train_loader_iter.set_postfix(loss=loss.item(), accuracy=100. * train_acc.item() / train_loader_len)\n",
    "    \n",
    "    print('Train Epoch: {}, Loss: {:.6f}, Accuracy: {:.2f}%'.format(epoch, avg_loss / len(train_loader), 100. * train_acc / train_loader_len))\n",
    "\n",
    "\n",
    "\n",
    "def val(epoch):\n",
    "    model.eval()\n",
    "    test_loss = 0.\n",
    "    correct = 0\n",
    "    val_loader_iter = tqdm(val_loader, total=len(val_loader), desc=\"Validation Epoch #{}\".format(epoch))\n",
    "    \n",
    "    with torch.no_grad():\n",
    "        for data, label in val_loader_iter:\n",
    "            data, label = data.cuda(), label.cuda()\n",
    "            output = model(data)\n",
    "            test_loss += F.cross_entropy(output, label, reduction='sum').item()\n",
    "            pred = output.data.max(1, keepdim=True)[1]\n",
    "            correct += pred.eq(label.data.view_as(pred)).cpu().sum()\n",
    "            val_loader_iter.set_postfix(loss=test_loss / len(val_loader.dataset), accuracy=100. * correct.item() / len(val_loader.dataset))\n",
    "    \n",
    "    test_loss /= len(val_loader.dataset)\n",
    "    accuracy = 100. * correct / len(val_loader.dataset)\n",
    "    print('Validation Set: Average Loss: {:.4f}, Accuracy: {:.2f}%'.format(test_loss, accuracy))\n",
    "\n",
    "    return accuracy\n",
    "\n",
    "\n",
    "#開始訓練\n",
    "\n",
    "best_val_acc = 0.\n",
    "for i in range(epochs):\n",
    "    train(i + 1)\n",
    "    temp_acc = val(i + 1)\n",
    "    if temp_acc > best_val_acc:\n",
    "        best_val_acc = temp_acc\n",
    "        torch.save(model.state_dict(), 'mydesign_best1.pt')\n",
    "        print('Best Accuracy: {:.2f}%'.format(best_val_acc))\n",
    "\n",
    "print('Final Best Accuracy: {:.2f}%'.format(best_val_acc))"
   ]
  },
  {
   "cell_type": "code",
   "execution_count": 8,
   "id": "5a67819f-2532-4c07-9d8f-90b4cbe8a198",
   "metadata": {},
   "outputs": [
    {
     "data": {
      "text/plain": [
       "ResNet(\n",
       "  (conv1): DynamicConv2D()\n",
       "  (bn1): BatchNorm2d(64, eps=1e-05, momentum=0.1, affine=True, track_running_stats=True)\n",
       "  (relu): ReLU(inplace=True)\n",
       "  (maxpool): MaxPool2d(kernel_size=3, stride=2, padding=1, dilation=1, ceil_mode=False)\n",
       "  (layer1): Sequential(\n",
       "    (0): BasicBlock(\n",
       "      (conv1): Conv2d(64, 64, kernel_size=(3, 3), stride=(1, 1), padding=(1, 1), bias=False)\n",
       "      (bn1): BatchNorm2d(64, eps=1e-05, momentum=0.1, affine=True, track_running_stats=True)\n",
       "      (relu): ReLU(inplace=True)\n",
       "      (conv2): Conv2d(64, 64, kernel_size=(3, 3), stride=(1, 1), padding=(1, 1), bias=False)\n",
       "      (bn2): BatchNorm2d(64, eps=1e-05, momentum=0.1, affine=True, track_running_stats=True)\n",
       "    )\n",
       "    (1): BasicBlock(\n",
       "      (conv1): Conv2d(64, 64, kernel_size=(3, 3), stride=(1, 1), padding=(1, 1), bias=False)\n",
       "      (bn1): BatchNorm2d(64, eps=1e-05, momentum=0.1, affine=True, track_running_stats=True)\n",
       "      (relu): ReLU(inplace=True)\n",
       "      (conv2): Conv2d(64, 64, kernel_size=(3, 3), stride=(1, 1), padding=(1, 1), bias=False)\n",
       "      (bn2): BatchNorm2d(64, eps=1e-05, momentum=0.1, affine=True, track_running_stats=True)\n",
       "    )\n",
       "  )\n",
       "  (layer2): Sequential(\n",
       "    (0): BasicBlock(\n",
       "      (conv1): Conv2d(64, 128, kernel_size=(3, 3), stride=(2, 2), padding=(1, 1), bias=False)\n",
       "      (bn1): BatchNorm2d(128, eps=1e-05, momentum=0.1, affine=True, track_running_stats=True)\n",
       "      (relu): ReLU(inplace=True)\n",
       "      (conv2): Conv2d(128, 128, kernel_size=(3, 3), stride=(1, 1), padding=(1, 1), bias=False)\n",
       "      (bn2): BatchNorm2d(128, eps=1e-05, momentum=0.1, affine=True, track_running_stats=True)\n",
       "      (downsample): Sequential(\n",
       "        (0): Conv2d(64, 128, kernel_size=(1, 1), stride=(2, 2), bias=False)\n",
       "        (1): BatchNorm2d(128, eps=1e-05, momentum=0.1, affine=True, track_running_stats=True)\n",
       "      )\n",
       "    )\n",
       "    (1): BasicBlock(\n",
       "      (conv1): Conv2d(128, 128, kernel_size=(3, 3), stride=(1, 1), padding=(1, 1), bias=False)\n",
       "      (bn1): BatchNorm2d(128, eps=1e-05, momentum=0.1, affine=True, track_running_stats=True)\n",
       "      (relu): ReLU(inplace=True)\n",
       "      (conv2): Conv2d(128, 128, kernel_size=(3, 3), stride=(1, 1), padding=(1, 1), bias=False)\n",
       "      (bn2): BatchNorm2d(128, eps=1e-05, momentum=0.1, affine=True, track_running_stats=True)\n",
       "    )\n",
       "  )\n",
       "  (layer3): Sequential(\n",
       "    (0): BasicBlock(\n",
       "      (conv1): Conv2d(128, 256, kernel_size=(3, 3), stride=(2, 2), padding=(1, 1), bias=False)\n",
       "      (bn1): BatchNorm2d(256, eps=1e-05, momentum=0.1, affine=True, track_running_stats=True)\n",
       "      (relu): ReLU(inplace=True)\n",
       "      (conv2): Conv2d(256, 256, kernel_size=(3, 3), stride=(1, 1), padding=(1, 1), bias=False)\n",
       "      (bn2): BatchNorm2d(256, eps=1e-05, momentum=0.1, affine=True, track_running_stats=True)\n",
       "      (downsample): Sequential(\n",
       "        (0): Conv2d(128, 256, kernel_size=(1, 1), stride=(2, 2), bias=False)\n",
       "        (1): BatchNorm2d(256, eps=1e-05, momentum=0.1, affine=True, track_running_stats=True)\n",
       "      )\n",
       "    )\n",
       "    (1): BasicBlock(\n",
       "      (conv1): Conv2d(256, 256, kernel_size=(3, 3), stride=(1, 1), padding=(1, 1), bias=False)\n",
       "      (bn1): BatchNorm2d(256, eps=1e-05, momentum=0.1, affine=True, track_running_stats=True)\n",
       "      (relu): ReLU(inplace=True)\n",
       "      (conv2): Conv2d(256, 256, kernel_size=(3, 3), stride=(1, 1), padding=(1, 1), bias=False)\n",
       "      (bn2): BatchNorm2d(256, eps=1e-05, momentum=0.1, affine=True, track_running_stats=True)\n",
       "    )\n",
       "  )\n",
       "  (layer4): Sequential(\n",
       "    (0): BasicBlock(\n",
       "      (conv1): Conv2d(256, 512, kernel_size=(3, 3), stride=(2, 2), padding=(1, 1), bias=False)\n",
       "      (bn1): BatchNorm2d(512, eps=1e-05, momentum=0.1, affine=True, track_running_stats=True)\n",
       "      (relu): ReLU(inplace=True)\n",
       "      (conv2): Conv2d(512, 512, kernel_size=(3, 3), stride=(1, 1), padding=(1, 1), bias=False)\n",
       "      (bn2): BatchNorm2d(512, eps=1e-05, momentum=0.1, affine=True, track_running_stats=True)\n",
       "      (downsample): Sequential(\n",
       "        (0): Conv2d(256, 512, kernel_size=(1, 1), stride=(2, 2), bias=False)\n",
       "        (1): BatchNorm2d(512, eps=1e-05, momentum=0.1, affine=True, track_running_stats=True)\n",
       "      )\n",
       "    )\n",
       "    (1): BasicBlock(\n",
       "      (conv1): Conv2d(512, 512, kernel_size=(3, 3), stride=(1, 1), padding=(1, 1), bias=False)\n",
       "      (bn1): BatchNorm2d(512, eps=1e-05, momentum=0.1, affine=True, track_running_stats=True)\n",
       "      (relu): ReLU(inplace=True)\n",
       "      (conv2): Conv2d(512, 512, kernel_size=(3, 3), stride=(1, 1), padding=(1, 1), bias=False)\n",
       "      (bn2): BatchNorm2d(512, eps=1e-05, momentum=0.1, affine=True, track_running_stats=True)\n",
       "    )\n",
       "  )\n",
       "  (avgpool): AdaptiveAvgPool2d(output_size=(1, 1))\n",
       "  (fc): Linear(in_features=512, out_features=50, bias=True)\n",
       ")"
      ]
     },
     "execution_count": 8,
     "metadata": {},
     "output_type": "execute_result"
    }
   ],
   "source": [
    "#把 best model load 進來\n",
    "\n",
    "model = models.resnet18(weights=None)\n",
    "model.conv1 = DynamicConv2D(input_channels=3, output_channels=64, kernel_size=7, stride=2, padding=3, use_bias=False)\n",
    "model.fc = torch.nn.Linear(model.fc.in_features, 50)\n",
    "model.load_state_dict(torch.load(\"mydesign_best1.pt\"))\n",
    "model.cuda()"
   ]
  },
  {
   "cell_type": "code",
   "execution_count": 19,
   "id": "c793c0d6-a0f3-4f84-bab8-d59c4078ec01",
   "metadata": {},
   "outputs": [],
   "source": [
    "# 把 test data load進來 ＆ data transforms \n",
    "\n",
    "\n",
    "\n",
    "def select_channels(image, channels='RGB'):\n",
    "    if channels == 'R':\n",
    "        return image[0, :, :].unsqueeze(0)\n",
    "    elif channels == 'G':\n",
    "        return image[1, :, :].unsqueeze(0)\n",
    "    elif channels == 'B':\n",
    "        return image[2, :, :].unsqueeze(0)\n",
    "    elif channels == 'RG':\n",
    "        return image[0:2, :, :]\n",
    "    elif channels == 'RB':\n",
    "        return torch.stack([image[0, :, :], image[2, :, :]], dim=0)\n",
    "    elif channels == 'GB':\n",
    "        return image[1:, :, :]\n",
    "    elif channels == 'RGB':\n",
    "        return image\n",
    "    else:\n",
    "        raise ValueError('Invalid channel selection')\n",
    "\n",
    "\n",
    "def rgb_dataloader(set_channel = 'RGB'):\n",
    "    test_transforms = transforms.Compose([\n",
    "        transforms.Resize(96),\n",
    "        transforms.CenterCrop(96),\n",
    "        transforms.ToTensor(),\n",
    "        transforms.Normalize([0.485, 0.456, 0.406], [0.229, 0.224, 0.225]),\n",
    "        transforms.Lambda(lambda x: select_channels(x, set_channel))  # Change 'RGB' to other combinations as needed\n",
    "    ])\n",
    "    \n",
    "    test_dataset = CustomImageNetDataset(annotation_file='data/images/test.txt', image_directory='data/images', transforms=test_transforms)\n",
    "    test_loader = DataLoader(test_dataset, batch_size=64, shuffle=False)\n",
    "    return test_loader"
   ]
  },
  {
   "cell_type": "code",
   "execution_count": 20,
   "id": "3c2de737-880a-47f2-8aa9-67204e40516f",
   "metadata": {},
   "outputs": [
    {
     "name": "stderr",
     "output_type": "stream",
     "text": [
      "Testing: 100%|██████████| 8/8 [00:01<00:00,  7.41it/s, accuracy=57.1]\n"
     ]
    },
    {
     "name": "stdout",
     "output_type": "stream",
     "text": [
      "RGB Set: RGB, Accuracy: 57.11%, Precision: 58.52%, Recall: 57.11%, F1 Score: 56.00%, FLOPS: 333585408, Elapsed Time: 1.08 seconds\n"
     ]
    },
    {
     "name": "stderr",
     "output_type": "stream",
     "text": [
      "Testing: 100%|██████████| 8/8 [00:01<00:00,  7.61it/s, accuracy=44]  \n"
     ]
    },
    {
     "name": "stdout",
     "output_type": "stream",
     "text": [
      "RGB Set: RG, Accuracy: 44.00%, Precision: 51.40%, Recall: 44.00%, F1 Score: 42.50%, FLOPS: 326360064, Elapsed Time: 1.05 seconds\n"
     ]
    },
    {
     "name": "stderr",
     "output_type": "stream",
     "text": [
      "Testing: 100%|██████████| 8/8 [00:01<00:00,  7.56it/s, accuracy=40.2]\n",
      "/home/r26121073/.local/lib/python3.11/site-packages/sklearn/metrics/_classification.py:1517: UndefinedMetricWarning: Precision is ill-defined and being set to 0.0 in labels with no predicted samples. Use `zero_division` parameter to control this behavior.\n",
      "  _warn_prf(average, modifier, f\"{metric.capitalize()} is\", len(result))\n"
     ]
    },
    {
     "name": "stdout",
     "output_type": "stream",
     "text": [
      "RGB Set: RB, Accuracy: 40.22%, Precision: 46.48%, Recall: 40.22%, F1 Score: 38.41%, FLOPS: 326360064, Elapsed Time: 1.06 seconds\n"
     ]
    },
    {
     "name": "stderr",
     "output_type": "stream",
     "text": [
      "Testing: 100%|██████████| 8/8 [00:01<00:00,  7.50it/s, accuracy=37.8]\n",
      "/home/r26121073/.local/lib/python3.11/site-packages/sklearn/metrics/_classification.py:1517: UndefinedMetricWarning: Precision is ill-defined and being set to 0.0 in labels with no predicted samples. Use `zero_division` parameter to control this behavior.\n",
      "  _warn_prf(average, modifier, f\"{metric.capitalize()} is\", len(result))\n"
     ]
    },
    {
     "name": "stdout",
     "output_type": "stream",
     "text": [
      "RGB Set: GB, Accuracy: 37.78%, Precision: 44.57%, Recall: 37.78%, F1 Score: 35.56%, FLOPS: 326360064, Elapsed Time: 1.07 seconds\n"
     ]
    },
    {
     "name": "stderr",
     "output_type": "stream",
     "text": [
      "Testing: 100%|██████████| 8/8 [00:01<00:00,  7.87it/s, accuracy=17.6]\n",
      "/home/r26121073/.local/lib/python3.11/site-packages/sklearn/metrics/_classification.py:1517: UndefinedMetricWarning: Precision is ill-defined and being set to 0.0 in labels with no predicted samples. Use `zero_division` parameter to control this behavior.\n",
      "  _warn_prf(average, modifier, f\"{metric.capitalize()} is\", len(result))\n"
     ]
    },
    {
     "name": "stdout",
     "output_type": "stream",
     "text": [
      "RGB Set: R, Accuracy: 17.56%, Precision: 22.61%, Recall: 17.56%, F1 Score: 15.33%, FLOPS: 319134720, Elapsed Time: 1.02 seconds\n"
     ]
    },
    {
     "name": "stderr",
     "output_type": "stream",
     "text": [
      "Testing: 100%|██████████| 8/8 [00:01<00:00,  8.00it/s, accuracy=15.6]\n",
      "/home/r26121073/.local/lib/python3.11/site-packages/sklearn/metrics/_classification.py:1517: UndefinedMetricWarning: Precision is ill-defined and being set to 0.0 in labels with no predicted samples. Use `zero_division` parameter to control this behavior.\n",
      "  _warn_prf(average, modifier, f\"{metric.capitalize()} is\", len(result))\n"
     ]
    },
    {
     "name": "stdout",
     "output_type": "stream",
     "text": [
      "RGB Set: G, Accuracy: 15.56%, Precision: 16.53%, Recall: 15.56%, F1 Score: 12.30%, FLOPS: 319134720, Elapsed Time: 1.00 seconds\n"
     ]
    },
    {
     "name": "stderr",
     "output_type": "stream",
     "text": [
      "Testing: 100%|██████████| 8/8 [00:00<00:00,  8.03it/s, accuracy=12.7]\n",
      "/home/r26121073/.local/lib/python3.11/site-packages/sklearn/metrics/_classification.py:1517: UndefinedMetricWarning: Precision is ill-defined and being set to 0.0 in labels with no predicted samples. Use `zero_division` parameter to control this behavior.\n",
      "  _warn_prf(average, modifier, f\"{metric.capitalize()} is\", len(result))\n"
     ]
    },
    {
     "name": "stdout",
     "output_type": "stream",
     "text": [
      "RGB Set: B, Accuracy: 12.67%, Precision: 14.57%, Recall: 12.67%, F1 Score: 10.32%, FLOPS: 319134720, Elapsed Time: 1.00 seconds\n"
     ]
    }
   ],
   "source": [
    "#定義 test\n",
    "\n",
    "def test(model, rgb_set):\n",
    "    model.eval()\n",
    "    correct = 0\n",
    "    test_loader = rgb_dataloader(set_channel = rgb_set)\n",
    "    test_loader_len = len(test_loader.dataset)\n",
    "    test_loader_iter = tqdm(test_loader, total=len(test_loader), desc=\"Testing\")\n",
    "    \n",
    "    all_preds = []\n",
    "    all_targets = []\n",
    "    \n",
    "    start_time = time.time()\n",
    "    \n",
    "    with torch.no_grad():\n",
    "        for data, target in test_loader_iter:\n",
    "            data, target = data.cuda(), target.cuda()\n",
    "            output = model(data)\n",
    "            pred = output.data.max(1, keepdim=True)[1]\n",
    "            correct += pred.eq(target.data.view_as(pred)).cpu().sum()\n",
    "            \n",
    "            all_preds.extend(pred.cpu().numpy())\n",
    "            all_targets.extend(target.cpu().numpy())\n",
    "            \n",
    "            test_loader_iter.set_postfix(accuracy=100. * correct.item() / test_loader_len)\n",
    "    \n",
    "    end_time = time.time()\n",
    "    elapsed_time = end_time - start_time\n",
    "    \n",
    "    accuracy = 100. * correct / test_loader_len\n",
    "    \n",
    "    # 計算 Precision, Recall 和 F1-score\n",
    "    precision = 100. * precision_score(all_targets, all_preds, average='macro')\n",
    "    recall = 100. * recall_score(all_targets, all_preds, average='macro')\n",
    "    f1 = 100. * f1_score(all_targets, all_preds, average='macro')\n",
    "    \n",
    "    # 計算 FLOPS\n",
    "    flops = torchprofile.profile_macs(model, torch.randn(1, *data.shape[1:]).cuda())\n",
    "    \n",
    "    return accuracy.item(), precision, recall, f1, flops, elapsed_time\n",
    "\n",
    "#開始測試\n",
    "\n",
    "rgb_list = [\"RGB\", \"RG\", \"RB\", \"GB\", \"R\", \"G\", \"B\"]\n",
    "for rgb in rgb_list:\n",
    "    resnet_acc, resnet_precision, resnet_recall, resnet_f1, resnet_flops, resnet_elapsed_time = test(model,rgb)\n",
    "    print(f\"RGB Set: {rgb:s}, Accuracy: {resnet_acc:.2f}%, Precision: {resnet_precision:.2f}%, Recall: {resnet_recall:.2f}%, F1 Score: {resnet_f1:.2f}%, FLOPS: {resnet_flops:d}, Elapsed Time: {resnet_elapsed_time:.2f} seconds\")\n",
    "    # resnet18_acc, resnet18_elapsed_time = test(model,rgb)\n",
    "    # print(f\"RGB Set: {rgb:s}, Accuracy: {resnet18_acc:.2f}%, Elapsed Time: {resnet18_elapsed_time:.2f} seconds\")"
   ]
  },
  {
   "cell_type": "markdown",
   "id": "55f26f83-e020-436d-8b77-366f739fce2f",
   "metadata": {
    "jp-MarkdownHeadingCollapsed": true
   },
   "source": [
    "# Resnet18 模型"
   ]
  },
  {
   "cell_type": "code",
   "execution_count": 27,
   "id": "c37c7f8c-4864-473f-ac4c-bdcc74563cf8",
   "metadata": {
    "collapsed": true,
    "jupyter": {
     "outputs_hidden": true
    }
   },
   "outputs": [
    {
     "name": "stderr",
     "output_type": "stream",
     "text": [
      "/home/r26121073/.local/lib/python3.11/site-packages/torchvision/models/_utils.py:208: UserWarning: The parameter 'pretrained' is deprecated since 0.13 and may be removed in the future, please use 'weights' instead.\n",
      "  warnings.warn(\n",
      "/home/r26121073/.local/lib/python3.11/site-packages/torchvision/models/_utils.py:223: UserWarning: Arguments other than a weight enum or `None` for 'weights' are deprecated since 0.13 and may be removed in the future. The current behavior is equivalent to passing `weights=None`.\n",
      "  warnings.warn(msg)\n"
     ]
    },
    {
     "data": {
      "text/plain": [
       "ResNet(\n",
       "  (conv1): Conv2d(3, 64, kernel_size=(7, 7), stride=(2, 2), padding=(3, 3), bias=False)\n",
       "  (bn1): BatchNorm2d(64, eps=1e-05, momentum=0.1, affine=True, track_running_stats=True)\n",
       "  (relu): ReLU(inplace=True)\n",
       "  (maxpool): MaxPool2d(kernel_size=3, stride=2, padding=1, dilation=1, ceil_mode=False)\n",
       "  (layer1): Sequential(\n",
       "    (0): BasicBlock(\n",
       "      (conv1): Conv2d(64, 64, kernel_size=(3, 3), stride=(1, 1), padding=(1, 1), bias=False)\n",
       "      (bn1): BatchNorm2d(64, eps=1e-05, momentum=0.1, affine=True, track_running_stats=True)\n",
       "      (relu): ReLU(inplace=True)\n",
       "      (conv2): Conv2d(64, 64, kernel_size=(3, 3), stride=(1, 1), padding=(1, 1), bias=False)\n",
       "      (bn2): BatchNorm2d(64, eps=1e-05, momentum=0.1, affine=True, track_running_stats=True)\n",
       "    )\n",
       "    (1): BasicBlock(\n",
       "      (conv1): Conv2d(64, 64, kernel_size=(3, 3), stride=(1, 1), padding=(1, 1), bias=False)\n",
       "      (bn1): BatchNorm2d(64, eps=1e-05, momentum=0.1, affine=True, track_running_stats=True)\n",
       "      (relu): ReLU(inplace=True)\n",
       "      (conv2): Conv2d(64, 64, kernel_size=(3, 3), stride=(1, 1), padding=(1, 1), bias=False)\n",
       "      (bn2): BatchNorm2d(64, eps=1e-05, momentum=0.1, affine=True, track_running_stats=True)\n",
       "    )\n",
       "  )\n",
       "  (layer2): Sequential(\n",
       "    (0): BasicBlock(\n",
       "      (conv1): Conv2d(64, 128, kernel_size=(3, 3), stride=(2, 2), padding=(1, 1), bias=False)\n",
       "      (bn1): BatchNorm2d(128, eps=1e-05, momentum=0.1, affine=True, track_running_stats=True)\n",
       "      (relu): ReLU(inplace=True)\n",
       "      (conv2): Conv2d(128, 128, kernel_size=(3, 3), stride=(1, 1), padding=(1, 1), bias=False)\n",
       "      (bn2): BatchNorm2d(128, eps=1e-05, momentum=0.1, affine=True, track_running_stats=True)\n",
       "      (downsample): Sequential(\n",
       "        (0): Conv2d(64, 128, kernel_size=(1, 1), stride=(2, 2), bias=False)\n",
       "        (1): BatchNorm2d(128, eps=1e-05, momentum=0.1, affine=True, track_running_stats=True)\n",
       "      )\n",
       "    )\n",
       "    (1): BasicBlock(\n",
       "      (conv1): Conv2d(128, 128, kernel_size=(3, 3), stride=(1, 1), padding=(1, 1), bias=False)\n",
       "      (bn1): BatchNorm2d(128, eps=1e-05, momentum=0.1, affine=True, track_running_stats=True)\n",
       "      (relu): ReLU(inplace=True)\n",
       "      (conv2): Conv2d(128, 128, kernel_size=(3, 3), stride=(1, 1), padding=(1, 1), bias=False)\n",
       "      (bn2): BatchNorm2d(128, eps=1e-05, momentum=0.1, affine=True, track_running_stats=True)\n",
       "    )\n",
       "  )\n",
       "  (layer3): Sequential(\n",
       "    (0): BasicBlock(\n",
       "      (conv1): Conv2d(128, 256, kernel_size=(3, 3), stride=(2, 2), padding=(1, 1), bias=False)\n",
       "      (bn1): BatchNorm2d(256, eps=1e-05, momentum=0.1, affine=True, track_running_stats=True)\n",
       "      (relu): ReLU(inplace=True)\n",
       "      (conv2): Conv2d(256, 256, kernel_size=(3, 3), stride=(1, 1), padding=(1, 1), bias=False)\n",
       "      (bn2): BatchNorm2d(256, eps=1e-05, momentum=0.1, affine=True, track_running_stats=True)\n",
       "      (downsample): Sequential(\n",
       "        (0): Conv2d(128, 256, kernel_size=(1, 1), stride=(2, 2), bias=False)\n",
       "        (1): BatchNorm2d(256, eps=1e-05, momentum=0.1, affine=True, track_running_stats=True)\n",
       "      )\n",
       "    )\n",
       "    (1): BasicBlock(\n",
       "      (conv1): Conv2d(256, 256, kernel_size=(3, 3), stride=(1, 1), padding=(1, 1), bias=False)\n",
       "      (bn1): BatchNorm2d(256, eps=1e-05, momentum=0.1, affine=True, track_running_stats=True)\n",
       "      (relu): ReLU(inplace=True)\n",
       "      (conv2): Conv2d(256, 256, kernel_size=(3, 3), stride=(1, 1), padding=(1, 1), bias=False)\n",
       "      (bn2): BatchNorm2d(256, eps=1e-05, momentum=0.1, affine=True, track_running_stats=True)\n",
       "    )\n",
       "  )\n",
       "  (layer4): Sequential(\n",
       "    (0): BasicBlock(\n",
       "      (conv1): Conv2d(256, 512, kernel_size=(3, 3), stride=(2, 2), padding=(1, 1), bias=False)\n",
       "      (bn1): BatchNorm2d(512, eps=1e-05, momentum=0.1, affine=True, track_running_stats=True)\n",
       "      (relu): ReLU(inplace=True)\n",
       "      (conv2): Conv2d(512, 512, kernel_size=(3, 3), stride=(1, 1), padding=(1, 1), bias=False)\n",
       "      (bn2): BatchNorm2d(512, eps=1e-05, momentum=0.1, affine=True, track_running_stats=True)\n",
       "      (downsample): Sequential(\n",
       "        (0): Conv2d(256, 512, kernel_size=(1, 1), stride=(2, 2), bias=False)\n",
       "        (1): BatchNorm2d(512, eps=1e-05, momentum=0.1, affine=True, track_running_stats=True)\n",
       "      )\n",
       "    )\n",
       "    (1): BasicBlock(\n",
       "      (conv1): Conv2d(512, 512, kernel_size=(3, 3), stride=(1, 1), padding=(1, 1), bias=False)\n",
       "      (bn1): BatchNorm2d(512, eps=1e-05, momentum=0.1, affine=True, track_running_stats=True)\n",
       "      (relu): ReLU(inplace=True)\n",
       "      (conv2): Conv2d(512, 512, kernel_size=(3, 3), stride=(1, 1), padding=(1, 1), bias=False)\n",
       "      (bn2): BatchNorm2d(512, eps=1e-05, momentum=0.1, affine=True, track_running_stats=True)\n",
       "    )\n",
       "  )\n",
       "  (avgpool): AdaptiveAvgPool2d(output_size=(1, 1))\n",
       "  (fc): Linear(in_features=512, out_features=50, bias=True)\n",
       ")"
      ]
     },
     "execution_count": 27,
     "metadata": {},
     "output_type": "execute_result"
    }
   ],
   "source": [
    "#引入 resnet18\n",
    "\n",
    "model = models.resnet18(pretrained=False)\n",
    "model.fc = torch.nn.Linear(model.fc.in_features, 50)\n",
    "model.cuda()"
   ]
  },
  {
   "cell_type": "code",
   "execution_count": 30,
   "id": "7bea5b65-f51a-4a8a-8377-6ef42263aa30",
   "metadata": {},
   "outputs": [
    {
     "name": "stderr",
     "output_type": "stream",
     "text": [
      "Training Epoch #1: 100%|██████████| 990/990 [02:59<00:00,  5.53it/s, accuracy=3.6, loss=3.88]  \n"
     ]
    },
    {
     "name": "stdout",
     "output_type": "stream",
     "text": [
      "Train Epoch: 1, Loss: 3.877870, Accuracy: 3.60%\n"
     ]
    },
    {
     "name": "stderr",
     "output_type": "stream",
     "text": [
      "Validation Epoch #1: 100%|██████████| 8/8 [00:00<00:00,  8.17it/s, accuracy=8.22, loss=3.67] \n"
     ]
    },
    {
     "name": "stdout",
     "output_type": "stream",
     "text": [
      "Validation Set: Average Loss: 3.6710, Accuracy: 8.22%\n",
      "Best Accuracy: 8.22%\n"
     ]
    },
    {
     "name": "stderr",
     "output_type": "stream",
     "text": [
      "Training Epoch #2: 100%|██████████| 990/990 [02:59<00:00,  5.51it/s, accuracy=6.26, loss=3.67] \n"
     ]
    },
    {
     "name": "stdout",
     "output_type": "stream",
     "text": [
      "Train Epoch: 2, Loss: 3.704179, Accuracy: 6.26%\n"
     ]
    },
    {
     "name": "stderr",
     "output_type": "stream",
     "text": [
      "Validation Epoch #2: 100%|██████████| 8/8 [00:00<00:00,  8.04it/s, accuracy=15.3, loss=3.37] \n"
     ]
    },
    {
     "name": "stdout",
     "output_type": "stream",
     "text": [
      "Validation Set: Average Loss: 3.3713, Accuracy: 15.33%\n",
      "Best Accuracy: 15.33%\n"
     ]
    },
    {
     "name": "stderr",
     "output_type": "stream",
     "text": [
      "Training Epoch #3: 100%|██████████| 990/990 [02:57<00:00,  5.58it/s, accuracy=8.92, loss=3.49] \n"
     ]
    },
    {
     "name": "stdout",
     "output_type": "stream",
     "text": [
      "Train Epoch: 3, Loss: 3.555709, Accuracy: 8.92%\n"
     ]
    },
    {
     "name": "stderr",
     "output_type": "stream",
     "text": [
      "Validation Epoch #3: 100%|██████████| 8/8 [00:01<00:00,  7.95it/s, accuracy=14.7, loss=3.26] \n"
     ]
    },
    {
     "name": "stdout",
     "output_type": "stream",
     "text": [
      "Validation Set: Average Loss: 3.2584, Accuracy: 14.67%\n"
     ]
    },
    {
     "name": "stderr",
     "output_type": "stream",
     "text": [
      "Training Epoch #4: 100%|██████████| 990/990 [02:56<00:00,  5.61it/s, accuracy=10.8, loss=2.92] \n"
     ]
    },
    {
     "name": "stdout",
     "output_type": "stream",
     "text": [
      "Train Epoch: 4, Loss: 3.454451, Accuracy: 10.81%\n"
     ]
    },
    {
     "name": "stderr",
     "output_type": "stream",
     "text": [
      "Validation Epoch #4: 100%|██████████| 8/8 [00:00<00:00,  8.12it/s, accuracy=13.8, loss=3.21] \n"
     ]
    },
    {
     "name": "stdout",
     "output_type": "stream",
     "text": [
      "Validation Set: Average Loss: 3.2095, Accuracy: 13.78%\n"
     ]
    },
    {
     "name": "stderr",
     "output_type": "stream",
     "text": [
      "Training Epoch #5: 100%|██████████| 990/990 [02:57<00:00,  5.59it/s, accuracy=12.3, loss=3.69]\n"
     ]
    },
    {
     "name": "stdout",
     "output_type": "stream",
     "text": [
      "Train Epoch: 5, Loss: 3.379856, Accuracy: 12.32%\n"
     ]
    },
    {
     "name": "stderr",
     "output_type": "stream",
     "text": [
      "Validation Epoch #5: 100%|██████████| 8/8 [00:00<00:00,  8.02it/s, accuracy=21.6, loss=3.05] \n"
     ]
    },
    {
     "name": "stdout",
     "output_type": "stream",
     "text": [
      "Validation Set: Average Loss: 3.0533, Accuracy: 21.56%\n",
      "Best Accuracy: 21.56%\n"
     ]
    },
    {
     "name": "stderr",
     "output_type": "stream",
     "text": [
      "Training Epoch #6: 100%|██████████| 990/990 [02:55<00:00,  5.63it/s, accuracy=13.7, loss=3.15]\n"
     ]
    },
    {
     "name": "stdout",
     "output_type": "stream",
     "text": [
      "Train Epoch: 6, Loss: 3.310372, Accuracy: 13.74%\n"
     ]
    },
    {
     "name": "stderr",
     "output_type": "stream",
     "text": [
      "Validation Epoch #6: 100%|██████████| 8/8 [00:00<00:00,  8.11it/s, accuracy=17.8, loss=2.99] \n"
     ]
    },
    {
     "name": "stdout",
     "output_type": "stream",
     "text": [
      "Validation Set: Average Loss: 2.9895, Accuracy: 17.78%\n"
     ]
    },
    {
     "name": "stderr",
     "output_type": "stream",
     "text": [
      "Training Epoch #7: 100%|██████████| 990/990 [02:57<00:00,  5.57it/s, accuracy=15.4, loss=3.59]\n"
     ]
    },
    {
     "name": "stdout",
     "output_type": "stream",
     "text": [
      "Train Epoch: 7, Loss: 3.234963, Accuracy: 15.42%\n"
     ]
    },
    {
     "name": "stderr",
     "output_type": "stream",
     "text": [
      "Validation Epoch #7: 100%|██████████| 8/8 [00:01<00:00,  7.90it/s, accuracy=23.3, loss=2.84] \n"
     ]
    },
    {
     "name": "stdout",
     "output_type": "stream",
     "text": [
      "Validation Set: Average Loss: 2.8385, Accuracy: 23.33%\n",
      "Best Accuracy: 23.33%\n"
     ]
    },
    {
     "name": "stderr",
     "output_type": "stream",
     "text": [
      "Training Epoch #8: 100%|██████████| 990/990 [02:56<00:00,  5.61it/s, accuracy=16.8, loss=3.53]\n"
     ]
    },
    {
     "name": "stdout",
     "output_type": "stream",
     "text": [
      "Train Epoch: 8, Loss: 3.166563, Accuracy: 16.81%\n"
     ]
    },
    {
     "name": "stderr",
     "output_type": "stream",
     "text": [
      "Validation Epoch #8: 100%|██████████| 8/8 [00:00<00:00,  8.04it/s, accuracy=24.7, loss=2.83] \n"
     ]
    },
    {
     "name": "stdout",
     "output_type": "stream",
     "text": [
      "Validation Set: Average Loss: 2.8339, Accuracy: 24.67%\n",
      "Best Accuracy: 24.67%\n"
     ]
    },
    {
     "name": "stderr",
     "output_type": "stream",
     "text": [
      "Training Epoch #9: 100%|██████████| 990/990 [02:56<00:00,  5.59it/s, accuracy=18, loss=3.26]  \n"
     ]
    },
    {
     "name": "stdout",
     "output_type": "stream",
     "text": [
      "Train Epoch: 9, Loss: 3.103732, Accuracy: 18.05%\n"
     ]
    },
    {
     "name": "stderr",
     "output_type": "stream",
     "text": [
      "Validation Epoch #9: 100%|██████████| 8/8 [00:00<00:00,  8.16it/s, accuracy=26.2, loss=2.76] \n"
     ]
    },
    {
     "name": "stdout",
     "output_type": "stream",
     "text": [
      "Validation Set: Average Loss: 2.7557, Accuracy: 26.22%\n",
      "Best Accuracy: 26.22%\n"
     ]
    },
    {
     "name": "stderr",
     "output_type": "stream",
     "text": [
      "Training Epoch #10: 100%|██████████| 990/990 [02:56<00:00,  5.60it/s, accuracy=19, loss=2.89]  \n"
     ]
    },
    {
     "name": "stdout",
     "output_type": "stream",
     "text": [
      "Train Epoch: 10, Loss: 3.047830, Accuracy: 18.98%\n"
     ]
    },
    {
     "name": "stderr",
     "output_type": "stream",
     "text": [
      "Validation Epoch #10: 100%|██████████| 8/8 [00:01<00:00,  7.94it/s, accuracy=30.2, loss=2.59] \n"
     ]
    },
    {
     "name": "stdout",
     "output_type": "stream",
     "text": [
      "Validation Set: Average Loss: 2.5937, Accuracy: 30.22%\n",
      "Best Accuracy: 30.22%\n"
     ]
    },
    {
     "name": "stderr",
     "output_type": "stream",
     "text": [
      "Training Epoch #11: 100%|██████████| 990/990 [02:57<00:00,  5.59it/s, accuracy=20.3, loss=3.18]\n"
     ]
    },
    {
     "name": "stdout",
     "output_type": "stream",
     "text": [
      "Train Epoch: 11, Loss: 2.993371, Accuracy: 20.30%\n"
     ]
    },
    {
     "name": "stderr",
     "output_type": "stream",
     "text": [
      "Validation Epoch #11: 100%|██████████| 8/8 [00:01<00:00,  8.00it/s, accuracy=31.3, loss=2.65] \n"
     ]
    },
    {
     "name": "stdout",
     "output_type": "stream",
     "text": [
      "Validation Set: Average Loss: 2.6488, Accuracy: 31.33%\n",
      "Best Accuracy: 31.33%\n"
     ]
    },
    {
     "name": "stderr",
     "output_type": "stream",
     "text": [
      "Training Epoch #12: 100%|██████████| 990/990 [02:57<00:00,  5.58it/s, accuracy=21.3, loss=2.79]\n"
     ]
    },
    {
     "name": "stdout",
     "output_type": "stream",
     "text": [
      "Train Epoch: 12, Loss: 2.943518, Accuracy: 21.29%\n"
     ]
    },
    {
     "name": "stderr",
     "output_type": "stream",
     "text": [
      "Validation Epoch #12: 100%|██████████| 8/8 [00:01<00:00,  7.48it/s, accuracy=29.8, loss=2.56] \n"
     ]
    },
    {
     "name": "stdout",
     "output_type": "stream",
     "text": [
      "Validation Set: Average Loss: 2.5565, Accuracy: 29.78%\n"
     ]
    },
    {
     "name": "stderr",
     "output_type": "stream",
     "text": [
      "Training Epoch #13: 100%|██████████| 990/990 [02:59<00:00,  5.51it/s, accuracy=22.4, loss=2.79]\n"
     ]
    },
    {
     "name": "stdout",
     "output_type": "stream",
     "text": [
      "Train Epoch: 13, Loss: 2.895362, Accuracy: 22.41%\n"
     ]
    },
    {
     "name": "stderr",
     "output_type": "stream",
     "text": [
      "Validation Epoch #13: 100%|██████████| 8/8 [00:00<00:00,  8.05it/s, accuracy=26, loss=2.66]   \n"
     ]
    },
    {
     "name": "stdout",
     "output_type": "stream",
     "text": [
      "Validation Set: Average Loss: 2.6567, Accuracy: 26.00%\n"
     ]
    },
    {
     "name": "stderr",
     "output_type": "stream",
     "text": [
      "Training Epoch #14: 100%|██████████| 990/990 [03:05<00:00,  5.34it/s, accuracy=23.3, loss=3.27]\n"
     ]
    },
    {
     "name": "stdout",
     "output_type": "stream",
     "text": [
      "Train Epoch: 14, Loss: 2.847849, Accuracy: 23.32%\n"
     ]
    },
    {
     "name": "stderr",
     "output_type": "stream",
     "text": [
      "Validation Epoch #14: 100%|██████████| 8/8 [00:01<00:00,  7.85it/s, accuracy=32, loss=2.4]    \n"
     ]
    },
    {
     "name": "stdout",
     "output_type": "stream",
     "text": [
      "Validation Set: Average Loss: 2.4016, Accuracy: 32.00%\n",
      "Best Accuracy: 32.00%\n",
      "Change lr:0.010000000000000002\n"
     ]
    },
    {
     "name": "stderr",
     "output_type": "stream",
     "text": [
      "Training Epoch #15: 100%|██████████| 990/990 [03:02<00:00,  5.44it/s, accuracy=29.3, loss=2.73]\n"
     ]
    },
    {
     "name": "stdout",
     "output_type": "stream",
     "text": [
      "Train Epoch: 15, Loss: 2.590407, Accuracy: 29.28%\n"
     ]
    },
    {
     "name": "stderr",
     "output_type": "stream",
     "text": [
      "Validation Epoch #15: 100%|██████████| 8/8 [00:00<00:00,  8.03it/s, accuracy=42, loss=2.08]   \n"
     ]
    },
    {
     "name": "stdout",
     "output_type": "stream",
     "text": [
      "Validation Set: Average Loss: 2.0810, Accuracy: 42.00%\n",
      "Best Accuracy: 42.00%\n"
     ]
    },
    {
     "name": "stderr",
     "output_type": "stream",
     "text": [
      "Training Epoch #16: 100%|██████████| 990/990 [02:57<00:00,  5.57it/s, accuracy=31, loss=2.89]  \n"
     ]
    },
    {
     "name": "stdout",
     "output_type": "stream",
     "text": [
      "Train Epoch: 16, Loss: 2.509489, Accuracy: 30.97%\n"
     ]
    },
    {
     "name": "stderr",
     "output_type": "stream",
     "text": [
      "Validation Epoch #16: 100%|██████████| 8/8 [00:01<00:00,  7.99it/s, accuracy=44.7, loss=2.03] \n"
     ]
    },
    {
     "name": "stdout",
     "output_type": "stream",
     "text": [
      "Validation Set: Average Loss: 2.0338, Accuracy: 44.67%\n",
      "Best Accuracy: 44.67%\n"
     ]
    },
    {
     "name": "stderr",
     "output_type": "stream",
     "text": [
      "Training Epoch #17: 100%|██████████| 990/990 [02:59<00:00,  5.52it/s, accuracy=32.1, loss=2.69]\n"
     ]
    },
    {
     "name": "stdout",
     "output_type": "stream",
     "text": [
      "Train Epoch: 17, Loss: 2.469996, Accuracy: 32.06%\n"
     ]
    },
    {
     "name": "stderr",
     "output_type": "stream",
     "text": [
      "Validation Epoch #17: 100%|██████████| 8/8 [00:01<00:00,  7.61it/s, accuracy=43.3, loss=2.04] \n"
     ]
    },
    {
     "name": "stdout",
     "output_type": "stream",
     "text": [
      "Validation Set: Average Loss: 2.0419, Accuracy: 43.33%\n"
     ]
    },
    {
     "name": "stderr",
     "output_type": "stream",
     "text": [
      "Training Epoch #18: 100%|██████████| 990/990 [02:59<00:00,  5.51it/s, accuracy=32.6, loss=2.59]\n"
     ]
    },
    {
     "name": "stdout",
     "output_type": "stream",
     "text": [
      "Train Epoch: 18, Loss: 2.441964, Accuracy: 32.62%\n"
     ]
    },
    {
     "name": "stderr",
     "output_type": "stream",
     "text": [
      "Validation Epoch #18: 100%|██████████| 8/8 [00:00<00:00,  8.14it/s, accuracy=43.3, loss=2]    \n"
     ]
    },
    {
     "name": "stdout",
     "output_type": "stream",
     "text": [
      "Validation Set: Average Loss: 1.9982, Accuracy: 43.33%\n"
     ]
    },
    {
     "name": "stderr",
     "output_type": "stream",
     "text": [
      "Training Epoch #19: 100%|██████████| 990/990 [02:57<00:00,  5.56it/s, accuracy=33.4, loss=2.43]\n"
     ]
    },
    {
     "name": "stdout",
     "output_type": "stream",
     "text": [
      "Train Epoch: 19, Loss: 2.408815, Accuracy: 33.35%\n"
     ]
    },
    {
     "name": "stderr",
     "output_type": "stream",
     "text": [
      "Validation Epoch #19: 100%|██████████| 8/8 [00:00<00:00,  8.04it/s, accuracy=44.9, loss=1.98] \n"
     ]
    },
    {
     "name": "stdout",
     "output_type": "stream",
     "text": [
      "Validation Set: Average Loss: 1.9786, Accuracy: 44.89%\n",
      "Best Accuracy: 44.89%\n"
     ]
    },
    {
     "name": "stderr",
     "output_type": "stream",
     "text": [
      "Training Epoch #20: 100%|██████████| 990/990 [02:54<00:00,  5.69it/s, accuracy=33.8, loss=2.04]\n"
     ]
    },
    {
     "name": "stdout",
     "output_type": "stream",
     "text": [
      "Train Epoch: 20, Loss: 2.382054, Accuracy: 33.83%\n"
     ]
    },
    {
     "name": "stderr",
     "output_type": "stream",
     "text": [
      "Validation Epoch #20: 100%|██████████| 8/8 [00:00<00:00,  8.07it/s, accuracy=46.2, loss=1.94] \n"
     ]
    },
    {
     "name": "stdout",
     "output_type": "stream",
     "text": [
      "Validation Set: Average Loss: 1.9419, Accuracy: 46.22%\n",
      "Best Accuracy: 46.22%\n"
     ]
    },
    {
     "name": "stderr",
     "output_type": "stream",
     "text": [
      "Training Epoch #21: 100%|██████████| 990/990 [03:04<00:00,  5.36it/s, accuracy=34.5, loss=2.69]\n"
     ]
    },
    {
     "name": "stdout",
     "output_type": "stream",
     "text": [
      "Train Epoch: 21, Loss: 2.360101, Accuracy: 34.51%\n"
     ]
    },
    {
     "name": "stderr",
     "output_type": "stream",
     "text": [
      "Validation Epoch #21: 100%|██████████| 8/8 [00:01<00:00,  7.92it/s, accuracy=46, loss=1.91]   \n"
     ]
    },
    {
     "name": "stdout",
     "output_type": "stream",
     "text": [
      "Validation Set: Average Loss: 1.9068, Accuracy: 46.00%\n"
     ]
    },
    {
     "name": "stderr",
     "output_type": "stream",
     "text": [
      "Training Epoch #22: 100%|██████████| 990/990 [02:59<00:00,  5.51it/s, accuracy=35.1, loss=2.07]\n"
     ]
    },
    {
     "name": "stdout",
     "output_type": "stream",
     "text": [
      "Train Epoch: 22, Loss: 2.334501, Accuracy: 35.15%\n"
     ]
    },
    {
     "name": "stderr",
     "output_type": "stream",
     "text": [
      "Validation Epoch #22: 100%|██████████| 8/8 [00:00<00:00,  8.08it/s, accuracy=44.9, loss=1.93] \n"
     ]
    },
    {
     "name": "stdout",
     "output_type": "stream",
     "text": [
      "Validation Set: Average Loss: 1.9285, Accuracy: 44.89%\n"
     ]
    },
    {
     "name": "stderr",
     "output_type": "stream",
     "text": [
      "Training Epoch #23: 100%|██████████| 990/990 [03:01<00:00,  5.44it/s, accuracy=35.5, loss=2.22]\n"
     ]
    },
    {
     "name": "stdout",
     "output_type": "stream",
     "text": [
      "Train Epoch: 23, Loss: 2.312828, Accuracy: 35.54%\n"
     ]
    },
    {
     "name": "stderr",
     "output_type": "stream",
     "text": [
      "Validation Epoch #23: 100%|██████████| 8/8 [00:01<00:00,  7.99it/s, accuracy=48.7, loss=1.85] \n"
     ]
    },
    {
     "name": "stdout",
     "output_type": "stream",
     "text": [
      "Validation Set: Average Loss: 1.8508, Accuracy: 48.67%\n",
      "Best Accuracy: 48.67%\n"
     ]
    },
    {
     "name": "stderr",
     "output_type": "stream",
     "text": [
      "Training Epoch #24: 100%|██████████| 990/990 [02:58<00:00,  5.54it/s, accuracy=36.4, loss=2.55]\n"
     ]
    },
    {
     "name": "stdout",
     "output_type": "stream",
     "text": [
      "Train Epoch: 24, Loss: 2.289448, Accuracy: 36.36%\n"
     ]
    },
    {
     "name": "stderr",
     "output_type": "stream",
     "text": [
      "Validation Epoch #24: 100%|██████████| 8/8 [00:00<00:00,  8.11it/s, accuracy=48.2, loss=1.9]  \n"
     ]
    },
    {
     "name": "stdout",
     "output_type": "stream",
     "text": [
      "Validation Set: Average Loss: 1.8967, Accuracy: 48.22%\n"
     ]
    },
    {
     "name": "stderr",
     "output_type": "stream",
     "text": [
      "Training Epoch #25: 100%|██████████| 990/990 [02:55<00:00,  5.65it/s, accuracy=36.9, loss=2.39]\n"
     ]
    },
    {
     "name": "stdout",
     "output_type": "stream",
     "text": [
      "Train Epoch: 25, Loss: 2.265477, Accuracy: 36.93%\n"
     ]
    },
    {
     "name": "stderr",
     "output_type": "stream",
     "text": [
      "Validation Epoch #25: 100%|██████████| 8/8 [00:01<00:00,  7.63it/s, accuracy=47.8, loss=1.82] \n"
     ]
    },
    {
     "name": "stdout",
     "output_type": "stream",
     "text": [
      "Validation Set: Average Loss: 1.8178, Accuracy: 47.78%\n"
     ]
    },
    {
     "name": "stderr",
     "output_type": "stream",
     "text": [
      "Training Epoch #26: 100%|██████████| 990/990 [02:57<00:00,  5.58it/s, accuracy=37.1, loss=2.48]\n"
     ]
    },
    {
     "name": "stdout",
     "output_type": "stream",
     "text": [
      "Train Epoch: 26, Loss: 2.246955, Accuracy: 37.09%\n"
     ]
    },
    {
     "name": "stderr",
     "output_type": "stream",
     "text": [
      "Validation Epoch #26: 100%|██████████| 8/8 [00:00<00:00,  8.16it/s, accuracy=49.3, loss=1.83] \n"
     ]
    },
    {
     "name": "stdout",
     "output_type": "stream",
     "text": [
      "Validation Set: Average Loss: 1.8269, Accuracy: 49.33%\n",
      "Best Accuracy: 49.33%\n"
     ]
    },
    {
     "name": "stderr",
     "output_type": "stream",
     "text": [
      "Training Epoch #27: 100%|██████████| 990/990 [02:54<00:00,  5.66it/s, accuracy=37.8, loss=2.36]\n"
     ]
    },
    {
     "name": "stdout",
     "output_type": "stream",
     "text": [
      "Train Epoch: 27, Loss: 2.225855, Accuracy: 37.80%\n"
     ]
    },
    {
     "name": "stderr",
     "output_type": "stream",
     "text": [
      "Validation Epoch #27: 100%|██████████| 8/8 [00:00<00:00,  8.12it/s, accuracy=45.8, loss=1.84] \n"
     ]
    },
    {
     "name": "stdout",
     "output_type": "stream",
     "text": [
      "Validation Set: Average Loss: 1.8445, Accuracy: 45.78%\n"
     ]
    },
    {
     "name": "stderr",
     "output_type": "stream",
     "text": [
      "Training Epoch #28: 100%|██████████| 990/990 [02:54<00:00,  5.66it/s, accuracy=38.3, loss=2.3] \n"
     ]
    },
    {
     "name": "stdout",
     "output_type": "stream",
     "text": [
      "Train Epoch: 28, Loss: 2.207562, Accuracy: 38.29%\n"
     ]
    },
    {
     "name": "stderr",
     "output_type": "stream",
     "text": [
      "Validation Epoch #28: 100%|██████████| 8/8 [00:00<00:00,  8.19it/s, accuracy=50.7, loss=1.71] \n"
     ]
    },
    {
     "name": "stdout",
     "output_type": "stream",
     "text": [
      "Validation Set: Average Loss: 1.7112, Accuracy: 50.67%\n",
      "Best Accuracy: 50.67%\n"
     ]
    },
    {
     "name": "stderr",
     "output_type": "stream",
     "text": [
      "Training Epoch #29: 100%|██████████| 990/990 [02:55<00:00,  5.63it/s, accuracy=38.9, loss=2.21]\n"
     ]
    },
    {
     "name": "stdout",
     "output_type": "stream",
     "text": [
      "Train Epoch: 29, Loss: 2.186268, Accuracy: 38.94%\n"
     ]
    },
    {
     "name": "stderr",
     "output_type": "stream",
     "text": [
      "Validation Epoch #29: 100%|██████████| 8/8 [00:01<00:00,  7.97it/s, accuracy=48.9, loss=1.71] \n"
     ]
    },
    {
     "name": "stdout",
     "output_type": "stream",
     "text": [
      "Validation Set: Average Loss: 1.7073, Accuracy: 48.89%\n"
     ]
    },
    {
     "name": "stderr",
     "output_type": "stream",
     "text": [
      "Training Epoch #30: 100%|██████████| 990/990 [02:57<00:00,  5.56it/s, accuracy=39.8, loss=1.96]\n"
     ]
    },
    {
     "name": "stdout",
     "output_type": "stream",
     "text": [
      "Train Epoch: 30, Loss: 2.155499, Accuracy: 39.77%\n"
     ]
    },
    {
     "name": "stderr",
     "output_type": "stream",
     "text": [
      "Validation Epoch #30: 100%|██████████| 8/8 [00:01<00:00,  7.89it/s, accuracy=52.4, loss=1.65] \n"
     ]
    },
    {
     "name": "stdout",
     "output_type": "stream",
     "text": [
      "Validation Set: Average Loss: 1.6484, Accuracy: 52.44%\n",
      "Best Accuracy: 52.44%\n",
      "Final Best Accuracy: 52.44%\n"
     ]
    }
   ],
   "source": [
    "#定義train, validation\n",
    "\n",
    "epochs = 30\n",
    "# batch_size = 32\n",
    "# test_batch_size = 32\n",
    "lr = 0.1\n",
    "momentum = 0.9\n",
    "weight_decay = 1e-4\n",
    "optimizer = optim.SGD(model.parameters(), lr=lr, momentum=momentum, weight_decay=weight_decay)\n",
    "\n",
    "def adjust_lr(optimizer, epoch):\n",
    "    if epoch in [epochs*0.5, epochs*0.75, epochs*0.85]:\n",
    "        for p in optimizer.param_groups:\n",
    "            p['lr'] *= 0.1\n",
    "            lr = p['lr']\n",
    "        print('Change lr:'+str(lr))\n",
    "\n",
    "def train(epoch):\n",
    "    model.train()\n",
    "    avg_loss = 0.\n",
    "    train_acc = 0.\n",
    "    adjust_lr(optimizer, epoch)\n",
    "    train_loader_len = len(train_loader.dataset)\n",
    "    train_loader_iter = tqdm(enumerate(train_loader), total=len(train_loader), desc=\"Training Epoch #{}\".format(epoch))\n",
    "    \n",
    "    for batch_idx, (data, target) in train_loader_iter:\n",
    "        data, target = data.cuda(), target.cuda()\n",
    "        optimizer.zero_grad()\n",
    "        output = model(data)\n",
    "        loss = F.cross_entropy(output, target)\n",
    "        avg_loss += loss.item()\n",
    "        pred = output.data.max(1, keepdim=True)[1]\n",
    "        train_acc += pred.eq(target.data.view_as(pred)).cpu().sum()\n",
    "        loss.backward()\n",
    "        optimizer.step()\n",
    "        train_loader_iter.set_postfix(loss=loss.item(), accuracy=100. * train_acc.item() / train_loader_len)\n",
    "    \n",
    "    print('Train Epoch: {}, Loss: {:.6f}, Accuracy: {:.2f}%'.format(epoch, avg_loss / len(train_loader), 100. * train_acc / train_loader_len))\n",
    "\n",
    "\n",
    "\n",
    "def val(epoch):\n",
    "    model.eval()\n",
    "    test_loss = 0.\n",
    "    correct = 0\n",
    "    val_loader_iter = tqdm(val_loader, total=len(val_loader), desc=\"Validation Epoch #{}\".format(epoch))\n",
    "    \n",
    "    with torch.no_grad():\n",
    "        for data, label in val_loader_iter:\n",
    "            data, label = data.cuda(), label.cuda()\n",
    "            output = model(data)\n",
    "            test_loss += F.cross_entropy(output, label, reduction='sum').item()\n",
    "            pred = output.data.max(1, keepdim=True)[1]\n",
    "            correct += pred.eq(label.data.view_as(pred)).cpu().sum()\n",
    "            val_loader_iter.set_postfix(loss=test_loss / len(val_loader.dataset), accuracy=100. * correct.item() / len(val_loader.dataset))\n",
    "    \n",
    "    test_loss /= len(val_loader.dataset)\n",
    "    accuracy = 100. * correct / len(val_loader.dataset)\n",
    "    print('Validation Set: Average Loss: {:.4f}, Accuracy: {:.2f}%'.format(test_loss, accuracy))\n",
    "\n",
    "    return accuracy\n",
    "\n",
    "\n",
    "best_val_acc = 0.\n",
    "for i in range(epochs):\n",
    "    train(i + 1)\n",
    "    temp_acc = val(i + 1)\n",
    "    if temp_acc > best_val_acc:\n",
    "        best_val_acc = temp_acc\n",
    "        torch.save(model.state_dict(), 'resnet18_best.pt')\n",
    "        print('Best Accuracy: {:.2f}%'.format(best_val_acc))\n",
    "\n",
    "print('Final Best Accuracy: {:.2f}%'.format(best_val_acc))\n",
    "    "
   ]
  },
  {
   "cell_type": "code",
   "execution_count": 31,
   "id": "2f3ff48b-297f-4554-a5ff-009011cc780c",
   "metadata": {},
   "outputs": [
    {
     "data": {
      "text/plain": [
       "ResNet(\n",
       "  (conv1): Conv2d(3, 64, kernel_size=(7, 7), stride=(2, 2), padding=(3, 3), bias=False)\n",
       "  (bn1): BatchNorm2d(64, eps=1e-05, momentum=0.1, affine=True, track_running_stats=True)\n",
       "  (relu): ReLU(inplace=True)\n",
       "  (maxpool): MaxPool2d(kernel_size=3, stride=2, padding=1, dilation=1, ceil_mode=False)\n",
       "  (layer1): Sequential(\n",
       "    (0): BasicBlock(\n",
       "      (conv1): Conv2d(64, 64, kernel_size=(3, 3), stride=(1, 1), padding=(1, 1), bias=False)\n",
       "      (bn1): BatchNorm2d(64, eps=1e-05, momentum=0.1, affine=True, track_running_stats=True)\n",
       "      (relu): ReLU(inplace=True)\n",
       "      (conv2): Conv2d(64, 64, kernel_size=(3, 3), stride=(1, 1), padding=(1, 1), bias=False)\n",
       "      (bn2): BatchNorm2d(64, eps=1e-05, momentum=0.1, affine=True, track_running_stats=True)\n",
       "    )\n",
       "    (1): BasicBlock(\n",
       "      (conv1): Conv2d(64, 64, kernel_size=(3, 3), stride=(1, 1), padding=(1, 1), bias=False)\n",
       "      (bn1): BatchNorm2d(64, eps=1e-05, momentum=0.1, affine=True, track_running_stats=True)\n",
       "      (relu): ReLU(inplace=True)\n",
       "      (conv2): Conv2d(64, 64, kernel_size=(3, 3), stride=(1, 1), padding=(1, 1), bias=False)\n",
       "      (bn2): BatchNorm2d(64, eps=1e-05, momentum=0.1, affine=True, track_running_stats=True)\n",
       "    )\n",
       "  )\n",
       "  (layer2): Sequential(\n",
       "    (0): BasicBlock(\n",
       "      (conv1): Conv2d(64, 128, kernel_size=(3, 3), stride=(2, 2), padding=(1, 1), bias=False)\n",
       "      (bn1): BatchNorm2d(128, eps=1e-05, momentum=0.1, affine=True, track_running_stats=True)\n",
       "      (relu): ReLU(inplace=True)\n",
       "      (conv2): Conv2d(128, 128, kernel_size=(3, 3), stride=(1, 1), padding=(1, 1), bias=False)\n",
       "      (bn2): BatchNorm2d(128, eps=1e-05, momentum=0.1, affine=True, track_running_stats=True)\n",
       "      (downsample): Sequential(\n",
       "        (0): Conv2d(64, 128, kernel_size=(1, 1), stride=(2, 2), bias=False)\n",
       "        (1): BatchNorm2d(128, eps=1e-05, momentum=0.1, affine=True, track_running_stats=True)\n",
       "      )\n",
       "    )\n",
       "    (1): BasicBlock(\n",
       "      (conv1): Conv2d(128, 128, kernel_size=(3, 3), stride=(1, 1), padding=(1, 1), bias=False)\n",
       "      (bn1): BatchNorm2d(128, eps=1e-05, momentum=0.1, affine=True, track_running_stats=True)\n",
       "      (relu): ReLU(inplace=True)\n",
       "      (conv2): Conv2d(128, 128, kernel_size=(3, 3), stride=(1, 1), padding=(1, 1), bias=False)\n",
       "      (bn2): BatchNorm2d(128, eps=1e-05, momentum=0.1, affine=True, track_running_stats=True)\n",
       "    )\n",
       "  )\n",
       "  (layer3): Sequential(\n",
       "    (0): BasicBlock(\n",
       "      (conv1): Conv2d(128, 256, kernel_size=(3, 3), stride=(2, 2), padding=(1, 1), bias=False)\n",
       "      (bn1): BatchNorm2d(256, eps=1e-05, momentum=0.1, affine=True, track_running_stats=True)\n",
       "      (relu): ReLU(inplace=True)\n",
       "      (conv2): Conv2d(256, 256, kernel_size=(3, 3), stride=(1, 1), padding=(1, 1), bias=False)\n",
       "      (bn2): BatchNorm2d(256, eps=1e-05, momentum=0.1, affine=True, track_running_stats=True)\n",
       "      (downsample): Sequential(\n",
       "        (0): Conv2d(128, 256, kernel_size=(1, 1), stride=(2, 2), bias=False)\n",
       "        (1): BatchNorm2d(256, eps=1e-05, momentum=0.1, affine=True, track_running_stats=True)\n",
       "      )\n",
       "    )\n",
       "    (1): BasicBlock(\n",
       "      (conv1): Conv2d(256, 256, kernel_size=(3, 3), stride=(1, 1), padding=(1, 1), bias=False)\n",
       "      (bn1): BatchNorm2d(256, eps=1e-05, momentum=0.1, affine=True, track_running_stats=True)\n",
       "      (relu): ReLU(inplace=True)\n",
       "      (conv2): Conv2d(256, 256, kernel_size=(3, 3), stride=(1, 1), padding=(1, 1), bias=False)\n",
       "      (bn2): BatchNorm2d(256, eps=1e-05, momentum=0.1, affine=True, track_running_stats=True)\n",
       "    )\n",
       "  )\n",
       "  (layer4): Sequential(\n",
       "    (0): BasicBlock(\n",
       "      (conv1): Conv2d(256, 512, kernel_size=(3, 3), stride=(2, 2), padding=(1, 1), bias=False)\n",
       "      (bn1): BatchNorm2d(512, eps=1e-05, momentum=0.1, affine=True, track_running_stats=True)\n",
       "      (relu): ReLU(inplace=True)\n",
       "      (conv2): Conv2d(512, 512, kernel_size=(3, 3), stride=(1, 1), padding=(1, 1), bias=False)\n",
       "      (bn2): BatchNorm2d(512, eps=1e-05, momentum=0.1, affine=True, track_running_stats=True)\n",
       "      (downsample): Sequential(\n",
       "        (0): Conv2d(256, 512, kernel_size=(1, 1), stride=(2, 2), bias=False)\n",
       "        (1): BatchNorm2d(512, eps=1e-05, momentum=0.1, affine=True, track_running_stats=True)\n",
       "      )\n",
       "    )\n",
       "    (1): BasicBlock(\n",
       "      (conv1): Conv2d(512, 512, kernel_size=(3, 3), stride=(1, 1), padding=(1, 1), bias=False)\n",
       "      (bn1): BatchNorm2d(512, eps=1e-05, momentum=0.1, affine=True, track_running_stats=True)\n",
       "      (relu): ReLU(inplace=True)\n",
       "      (conv2): Conv2d(512, 512, kernel_size=(3, 3), stride=(1, 1), padding=(1, 1), bias=False)\n",
       "      (bn2): BatchNorm2d(512, eps=1e-05, momentum=0.1, affine=True, track_running_stats=True)\n",
       "    )\n",
       "  )\n",
       "  (avgpool): AdaptiveAvgPool2d(output_size=(1, 1))\n",
       "  (fc): Linear(in_features=512, out_features=50, bias=True)\n",
       ")"
      ]
     },
     "execution_count": 31,
     "metadata": {},
     "output_type": "execute_result"
    }
   ],
   "source": [
    "#把 best model load 進來\n",
    "\n",
    "model = models.resnet18(pretrained=False)\n",
    "model.fc = torch.nn.Linear(model.fc.in_features, 50)\n",
    "model.load_state_dict(torch.load(\"resnet18_best.pt\"))\n",
    "model.cuda()"
   ]
  },
  {
   "cell_type": "code",
   "execution_count": 33,
   "id": "dbff7de5-999c-45de-aa72-86c17ac50500",
   "metadata": {},
   "outputs": [],
   "source": [
    "# 把 test data load進來 ＆ data transforms \n",
    "\n",
    "test_augmentations = transforms.Compose([\n",
    "    transforms.Resize(96),\n",
    "    transforms.CenterCrop(96),\n",
    "    transforms.ToTensor(),\n",
    "    transforms.Normalize([0.485, 0.456, 0.406], [0.229, 0.224, 0.225]),\n",
    "])\n",
    "\n",
    "test_dataset = CustomImageNetDataset(annotation_file='data/images/test.txt', image_directory='data/images', transforms=test_augmentations)\n",
    "test_loader = DataLoader(test_dataset, batch_size=64, shuffle=False)"
   ]
  },
  {
   "cell_type": "code",
   "execution_count": 36,
   "id": "eddb3814-1a40-45cc-8249-80b7c1f7d155",
   "metadata": {},
   "outputs": [
    {
     "name": "stderr",
     "output_type": "stream",
     "text": [
      "Testing: 100%|██████████| 8/8 [00:00<00:00,  8.14it/s, accuracy=51.1]\n"
     ]
    },
    {
     "name": "stdout",
     "output_type": "stream",
     "text": [
      "Accuracy: 51.11%, Precision: 52.57%, Recall: 51.11%, F1 Score: 49.78%, FLOPS: 333585408, Elapsed Time: 0.98 seconds\n"
     ]
    }
   ],
   "source": [
    "#定義test\n",
    "\n",
    "def test(model):\n",
    "    model.eval()\n",
    "    correct = 0\n",
    "    test_loader_len = len(test_loader.dataset)\n",
    "    test_loader_iter = tqdm(test_loader, total=len(test_loader), desc=\"Testing\")\n",
    "    \n",
    "    all_preds = []\n",
    "    all_targets = []\n",
    "    \n",
    "    start_time = time.time()\n",
    "    \n",
    "    with torch.no_grad():\n",
    "        for data, target in test_loader_iter:\n",
    "            data, target = data.cuda(), target.cuda()\n",
    "            output = model(data)\n",
    "            pred = output.data.max(1, keepdim=True)[1]\n",
    "            correct += pred.eq(target.data.view_as(pred)).cpu().sum()\n",
    "            \n",
    "            all_preds.extend(pred.cpu().numpy())\n",
    "            all_targets.extend(target.cpu().numpy())\n",
    "            \n",
    "            test_loader_iter.set_postfix(accuracy=100. * correct.item() / test_loader_len)\n",
    "    \n",
    "    end_time = time.time()\n",
    "    elapsed_time = end_time - start_time\n",
    "    \n",
    "    accuracy = 100. * correct / test_loader_len\n",
    "    \n",
    "    # 計算 Precision, Recall 和 F1-score\n",
    "    precision = 100. * precision_score(all_targets, all_preds, average='macro')\n",
    "    recall = 100. * recall_score(all_targets, all_preds, average='macro')\n",
    "    f1 = 100. * f1_score(all_targets, all_preds, average='macro')\n",
    "    \n",
    "    # 計算 FLOPS\n",
    "    flops = torchprofile.profile_macs(model, torch.randn(1, *data.shape[1:]).cuda())\n",
    "    \n",
    "    return accuracy.item(), precision, recall, f1, flops, elapsed_time\n",
    "\n",
    "#開始測試\n",
    "\n",
    "resnet_acc, resnet_precision, resnet_recall, resnet_f1, resnet_flops, resnet_elapsed_time = test(model)\n",
    "print(f\"Accuracy: {resnet_acc:.2f}%, Precision: {resnet_precision:.2f}%, Recall: {resnet_recall:.2f}%, F1 Score: {resnet_f1:.2f}%, FLOPS: {resnet_flops:d}, Elapsed Time: {resnet_elapsed_time:.2f} seconds\")"
   ]
  }
 ],
 "metadata": {
  "kernelspec": {
   "display_name": "Python 3 (ipykernel)",
   "language": "python",
   "name": "python3"
  },
  "language_info": {
   "codemirror_mode": {
    "name": "ipython",
    "version": 3
   },
   "file_extension": ".py",
   "mimetype": "text/x-python",
   "name": "python",
   "nbconvert_exporter": "python",
   "pygments_lexer": "ipython3",
   "version": "3.11.5"
  }
 },
 "nbformat": 4,
 "nbformat_minor": 5
}
